{
 "cells": [
  {
   "cell_type": "markdown",
   "id": "45e3f87f",
   "metadata": {},
   "source": [
    "# Kontrollstrukturen"
   ]
  },
  {
   "cell_type": "code",
   "execution_count": 4,
   "id": "7cba4587",
   "metadata": {},
   "outputs": [],
   "source": [
    "animals = [\"Elefant\", \"Tiger\", \"Wal\", \"Elefant\", \"Löwe\", \"Löwe\", \"Gnu\", \"Tiger\", \"Elefant\", \"Seestern\"]"
   ]
  },
  {
   "cell_type": "code",
   "execution_count": 3,
   "id": "fcd367d3",
   "metadata": {},
   "outputs": [],
   "source": [
    "book = {\n",
    "    \"title\": \"Per Anhalter durch die Galaxis\",\n",
    "    \"autor\": \"Douglas Adams\",\n",
    "    \"seitenanzahl\": 240,\n",
    "    \"sprache\": \"deutsch\",\n",
    "    \"isbn-13\": \"978-3036959542\"\n",
    "}"
   ]
  },
  {
   "cell_type": "markdown",
   "id": "ba0b5fa7",
   "metadata": {},
   "source": [
    "---"
   ]
  },
  {
   "cell_type": "markdown",
   "id": "6f451654",
   "metadata": {},
   "source": [
    "### Kontrollstrukturen 1) - Elemente ausgeben\n",
    "\n",
    "Gebe alle Zahlen von 1 bis einschließlich 10 aus"
   ]
  },
  {
   "cell_type": "code",
   "execution_count": 1,
   "id": "722b6c45",
   "metadata": {},
   "outputs": [],
   "source": [
    "# your code"
   ]
  },
  {
   "cell_type": "markdown",
   "id": "bd38081d",
   "metadata": {},
   "source": [
    "Gebe alle gerade Zahlen von 0 bis 20 aus  \n",
    "Verwende dafür kein if statement"
   ]
  },
  {
   "cell_type": "code",
   "execution_count": 2,
   "id": "1f7c83ee",
   "metadata": {},
   "outputs": [],
   "source": [
    "# your code"
   ]
  },
  {
   "cell_type": "markdown",
   "id": "8edd32e7",
   "metadata": {},
   "source": [
    "Gebe alle Elemente der Liste *animals* nacheinander aus"
   ]
  },
  {
   "cell_type": "code",
   "execution_count": 3,
   "id": "9d95d808",
   "metadata": {},
   "outputs": [],
   "source": [
    "# your code"
   ]
  },
  {
   "cell_type": "markdown",
   "id": "441a0d4e",
   "metadata": {},
   "source": [
    "Gebe alle Elemente in dem Dictionary *book* aus"
   ]
  },
  {
   "cell_type": "code",
   "execution_count": 4,
   "id": "66ec985a",
   "metadata": {},
   "outputs": [],
   "source": [
    "# your code"
   ]
  },
  {
   "cell_type": "markdown",
   "id": "18217006",
   "metadata": {},
   "source": [
    "---\n",
    "\n",
    "### Kontrollstrukturen 2) - Element zählen\n",
    "\n",
    "Zähle wie oft **\"Elefant\"** und **\"Löwe\"** in der Liste *animals* vorkommt"
   ]
  },
  {
   "cell_type": "code",
   "execution_count": 5,
   "id": "34d942ee",
   "metadata": {},
   "outputs": [],
   "source": [
    "# your code"
   ]
  },
  {
   "cell_type": "markdown",
   "id": "e00e5750",
   "metadata": {},
   "source": [
    "---\n",
    "\n",
    "### Kontrollstrukturen 3) - Admin"
   ]
  },
  {
   "cell_type": "code",
   "execution_count": 19,
   "id": "f2434930",
   "metadata": {},
   "outputs": [],
   "source": [
    "usernames = [\"obi-wan32\", \"yoda_1\", \"_anakin_\", \"admin\", \"C3P0!Fan\"]"
   ]
  },
  {
   "cell_type": "markdown",
   "id": "3ff41037",
   "metadata": {},
   "source": [
    "Gehe die Liste mit Nutzernamen aus und begrüße jeden Nutzer.  \n",
    "Begrüße den Nutzer *admin* mit einem extra Begrüßung."
   ]
  },
  {
   "cell_type": "code",
   "execution_count": 6,
   "id": "460d0d61",
   "metadata": {},
   "outputs": [],
   "source": [
    "# your code"
   ]
  },
  {
   "cell_type": "markdown",
   "id": "57283fe3",
   "metadata": {},
   "source": [
    "---\n",
    "### Kontrollstrukturen 4) - Zufallszahlen\n",
    "\n",
    "Gehe zufällig generierte Zahlen zwischen 0 und einschließlich 100 durch, bis zufällig eine von dir gewählte Zahl generiert wird. **Hier für kannst du die Funktion randrange() von random verwenden**    \n",
    "Gebe die Anzahl der Durchläufe aus die ebnötigt wurden bis diese Zahl generiert wurde."
   ]
  },
  {
   "cell_type": "code",
   "execution_count": 7,
   "id": "6f7fcd6b",
   "metadata": {},
   "outputs": [],
   "source": [
    "# yout code"
   ]
  },
  {
   "cell_type": "markdown",
   "id": "7709cda1",
   "metadata": {},
   "source": [
    "---\n",
    "### Kontrollstrukturen 5) - Tiger\n",
    "\n",
    "Gehe die Liste *animals* durch und breche die Iteration ab, wenn das zweite Mal **\"Tiger\"** vorkommt.  \n",
    "Gebe die einzelnen Elemente bis zum Abbruch der Iteration aus."
   ]
  },
  {
   "cell_type": "code",
   "execution_count": 8,
   "id": "9c32d354",
   "metadata": {},
   "outputs": [],
   "source": [
    "# your code"
   ]
  }
 ],
 "metadata": {
  "kernelspec": {
   "display_name": "Python 3 (ipykernel)",
   "language": "python",
   "name": "python3"
  },
  "language_info": {
   "codemirror_mode": {
    "name": "ipython",
    "version": 3
   },
   "file_extension": ".py",
   "mimetype": "text/x-python",
   "name": "python",
   "nbconvert_exporter": "python",
   "pygments_lexer": "ipython3",
   "version": "3.10.0"
  }
 },
 "nbformat": 4,
 "nbformat_minor": 5
}
