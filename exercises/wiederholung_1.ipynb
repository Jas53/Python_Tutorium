{
 "cells": [
  {
   "cell_type": "markdown",
   "id": "43a5708b",
   "metadata": {},
   "source": [
    "# Wiederholung - die Erste"
   ]
  },
  {
   "cell_type": "code",
   "execution_count": 2,
   "id": "28a192a5",
   "metadata": {},
   "outputs": [],
   "source": [
    "books = {\n",
    "    \"978-3036959542\": {\n",
    "        \"title\": \"Per Anhalter durch die Galaxis\",\n",
    "        \"autor\": \"Douglas Adams\",\n",
    "        \"seitenanzahl\": 240,\n",
    "        \"sprache\": \"deutsch\",\n",
    "        \"isbn-13\": \"978-3036959542\"\n",
    "    },\n",
    "    \"978-3453318670\": {\n",
    "      \"title\": \"Die Foundation-Trilogie\",\n",
    "        \"autor\": \"Issac Asimov\",\n",
    "        \"seitenanzahl\": 880,\n",
    "        \"sprache\": \"deutsch\",\n",
    "        \"isbn-13\": \"978-3453318670\"\n",
    "    },\n",
    "    \"978-3036959566\": {\n",
    "        \"title\": \"Das Restaurant am Ende des Universums\",\n",
    "        \"autor\": \"Dougals Adams\",\n",
    "        \"seitenanzahl\": 272,\n",
    "        \"sprache\": \"deutsch\",\n",
    "        \"isbn-13\": \"978-3036959566\"\n",
    "    },\n",
    "    \"978-3036959559\": {\n",
    "        \"title\": \"Das Leben, das Universum und der ganze Rest\",\n",
    "        \"autor\": \"Douglas Adams\",\n",
    "        \"seitenanzahl\": 256,\n",
    "        \"sprache\": \"deutsch\",\n",
    "        \"isbn-13\": \"978-3036959559\"\n",
    "    },\n",
    "    \"978-3453528420\": {\n",
    "        \"title\": \"Ich, der Roboter\",\n",
    "        \"autor\": \"Issac Asimov\",\n",
    "        \"seitenzahl\": 304,\n",
    "        \"sprache\": \"deutsch\",\n",
    "        \"isbn-13\": \"978-3453528420\"\n",
    "    }\n",
    "}"
   ]
  },
  {
   "cell_type": "markdown",
   "id": "3dfae62b",
   "metadata": {},
   "source": [
    "---\n",
    "### Aufgabe 1)\n",
    "\n",
    "Gebe für die einzelenen Bücher in *books* jeweils Titel und Autor des Buchs aus.  \n",
    "Überlege dir hierfür eine entsprechende Formatierung."
   ]
  },
  {
   "cell_type": "code",
   "execution_count": 3,
   "id": "53b348ab",
   "metadata": {},
   "outputs": [],
   "source": [
    "# your code"
   ]
  },
  {
   "cell_type": "markdown",
   "id": "48183b69",
   "metadata": {},
   "source": [
    "---\n",
    "### Aufgabe 2)\n",
    "\n",
    "**a)** Gebe alle Titel aus, dessen Bücher von dem Autor *Issac Asimov* sind.  \n",
    "**b)** Gebe alle Titel aus, dessen Buchtitel ein *Komma* beinhalten.  \n",
    "**c)** Gebe alle Titel aus, dessen Bücher mehr als 270 Seiten haben."
   ]
  },
  {
   "cell_type": "code",
   "execution_count": 4,
   "id": "3cff50ba",
   "metadata": {},
   "outputs": [],
   "source": [
    "# your code"
   ]
  }
 ],
 "metadata": {
  "kernelspec": {
   "display_name": "Python 3 (ipykernel)",
   "language": "python",
   "name": "python3"
  },
  "language_info": {
   "codemirror_mode": {
    "name": "ipython",
    "version": 3
   },
   "file_extension": ".py",
   "mimetype": "text/x-python",
   "name": "python",
   "nbconvert_exporter": "python",
   "pygments_lexer": "ipython3",
   "version": "3.10.0"
  }
 },
 "nbformat": 4,
 "nbformat_minor": 5
}
