{
 "cells": [
  {
   "cell_type": "markdown",
   "id": "1bdb94ba",
   "metadata": {},
   "source": [
    "# Variablen und Datentypen"
   ]
  },
  {
   "cell_type": "markdown",
   "id": "e2613f1e",
   "metadata": {},
   "source": [
    "---\n",
    "### Strings 1) - Ersetzen "
   ]
  },
  {
   "cell_type": "code",
   "execution_count": 20,
   "id": "d77caf83",
   "metadata": {},
   "outputs": [],
   "source": [
    "text = \"Wenn hinter Fliegen Fliegen gehen, gehen Fliegen Fliegen hinterher.\""
   ]
  },
  {
   "cell_type": "markdown",
   "id": "e44c8864",
   "metadata": {},
   "source": [
    "Ersetze im obrigen Text *gehen* durch *fliegen*"
   ]
  },
  {
   "cell_type": "code",
   "execution_count": 21,
   "id": "c1ce9427",
   "metadata": {},
   "outputs": [],
   "source": [
    "# your code"
   ]
  },
  {
   "cell_type": "markdown",
   "id": "9694c0ec",
   "metadata": {},
   "source": [
    "Gebe den neuen Text aus"
   ]
  },
  {
   "cell_type": "code",
   "execution_count": 23,
   "id": "51109ed2",
   "metadata": {},
   "outputs": [],
   "source": [
    "# your code"
   ]
  },
  {
   "cell_type": "markdown",
   "id": "2b2cfd3d",
   "metadata": {},
   "source": [
    "---\n",
    "\n",
    "### Strings 2) - Text teilen\n",
    "\n",
    "Teile den Text in seine einzelnen Wörter auf und gebe diese aus"
   ]
  },
  {
   "cell_type": "code",
   "execution_count": 25,
   "id": "e0692981",
   "metadata": {},
   "outputs": [],
   "source": [
    "# your code"
   ]
  },
  {
   "cell_type": "markdown",
   "id": "8cdebfe1",
   "metadata": {},
   "source": [
    "---\n",
    "\n",
    "### Strings 3) - Zusammensetzen"
   ]
  },
  {
   "cell_type": "code",
   "execution_count": 26,
   "id": "8babaf7e",
   "metadata": {},
   "outputs": [],
   "source": [
    "words = [\"Brautkleid\", \"bleibt\", \"Brautkleid\", \"und\", \"Blaukraut\", \"bleibt\", \"Blaukraut\"]"
   ]
  },
  {
   "cell_type": "markdown",
   "id": "961583ac",
   "metadata": {},
   "source": [
    "Setze die Wörter zu einem Satz zusammen"
   ]
  },
  {
   "cell_type": "code",
   "execution_count": 28,
   "id": "6ae98c52",
   "metadata": {},
   "outputs": [],
   "source": [
    "# your code"
   ]
  },
  {
   "cell_type": "markdown",
   "id": "f9e627b2",
   "metadata": {},
   "source": [
    "---\n",
    "\n",
    "### Strings 4) - Verwendung von Variablen\n",
    "\n",
    "Gebe einen Satz aus in dem du folgende Variablen verwendets.  \n",
    "Probiere gerne mehrere Wege aus, wie Variablen in einem String verwendet werden können.\n",
    "\n",
    "Verwende außerdem die entsprechenden Funktionen um die Strings in das richtige Format zu bringen (Klein-/Großschreibung)"
   ]
  },
  {
   "cell_type": "code",
   "execution_count": 29,
   "id": "c4da526c",
   "metadata": {},
   "outputs": [],
   "source": [
    "uni = \"dhbw\"\n",
    "class_name = \"WWI2021F\"\n",
    "language = \"PYTHON\""
   ]
  },
  {
   "cell_type": "code",
   "execution_count": 32,
   "id": "42a704b9",
   "metadata": {},
   "outputs": [],
   "source": [
    "# your code"
   ]
  }
 ],
 "metadata": {
  "kernelspec": {
   "display_name": "Python 3 (ipykernel)",
   "language": "python",
   "name": "python3"
  },
  "language_info": {
   "codemirror_mode": {
    "name": "ipython",
    "version": 3
   },
   "file_extension": ".py",
   "mimetype": "text/x-python",
   "name": "python",
   "nbconvert_exporter": "python",
   "pygments_lexer": "ipython3",
   "version": "3.10.0"
  }
 },
 "nbformat": 4,
 "nbformat_minor": 5
}
