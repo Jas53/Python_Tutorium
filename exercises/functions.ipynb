{
 "cells": [
  {
   "cell_type": "markdown",
   "id": "4ef085d5",
   "metadata": {},
   "source": [
    "# Functions\n",
    "\n",
    "Denke bei all deinen Funktionen an die zuvor besprochenen Konventionen\n",
    "\n",
    "### Aufgabe 1) - Begrüßung\n",
    "\n",
    "Erstelle eine Funktion die einen Namen als Argument nimmt und eine Begrüßung ausgibt. \n",
    "Probiere deine Funktion aus"
   ]
  },
  {
   "cell_type": "code",
   "execution_count": 5,
   "id": "99774c3f",
   "metadata": {},
   "outputs": [],
   "source": [
    "# your code"
   ]
  },
  {
   "cell_type": "markdown",
   "id": "82988821",
   "metadata": {},
   "source": [
    "---\n",
    "### Aufgabe 2) - Rechner\n",
    "\n",
    "Erstelle eine Funktion die anhand deiner Eingabe zwei Nummern miteinander addiert, subtrahiert, multipliziert oder dividiert. Gebe auch Standartwerte an.  \n",
    "Probiere deine Funktion aus"
   ]
  },
  {
   "cell_type": "code",
   "execution_count": 28,
   "id": "7d5cbbef",
   "metadata": {},
   "outputs": [],
   "source": [
    "# your code"
   ]
  },
  {
   "cell_type": "markdown",
   "id": "3ddb074d",
   "metadata": {},
   "source": [
    "---\n",
    "\n",
    "### Aufgaben 3) - Nummern\n",
    "\n",
    "Erstelle eine Funktion die eine nicht festgelegte Anzahl an Nummern summieren und das Ergebnis ausgibt.  \n",
    "Probiere deine Funktion aus"
   ]
  },
  {
   "cell_type": "code",
   "execution_count": 34,
   "id": "c6ef7279",
   "metadata": {},
   "outputs": [],
   "source": [
    "# your code"
   ]
  },
  {
   "cell_type": "markdown",
   "id": "608d13ee",
   "metadata": {},
   "source": [
    "---\n",
    "### Aufgabe 4) - Autos\n",
    "\n",
    "Erstelle eine Funktion welcher eine beliebige Anzahl an Argumenten übergeben werden kann. Dabei sind folgende Argumente Pflicht:\n",
    "- manufacturer\n",
    "- model \n",
    "\n",
    "Andere *optionale* Argumente können z.B. sein:\n",
    "- color\n",
    "- amount_of_wheels\n",
    "- etc  \n",
    "\n",
    "Alle übergebene Daten sollen in einem separaten Dictionary gespeichert und am Ende der Funktion ausgegeben werden.  \n",
    "Probiere deine FUnktion aus"
   ]
  },
  {
   "cell_type": "code",
   "execution_count": 50,
   "id": "c45ae997",
   "metadata": {},
   "outputs": [],
   "source": [
    "# your code"
   ]
  },
  {
   "cell_type": "markdown",
   "id": "b1910d19",
   "metadata": {},
   "source": [
    "---\n",
    "### Aufgabe 5 - Import\n",
    "\n",
    "Erstelle eine .py-Datei und kopiere eine deiner hier zuvor erstellten Funktionen in die Datei.  \n",
    "Erstelle eine weitere .py-Datei in der du die entsprechende Funktion importierst und ausführst."
   ]
  }
 ],
 "metadata": {
  "kernelspec": {
   "display_name": "Python 3 (ipykernel)",
   "language": "python",
   "name": "python3"
  },
  "language_info": {
   "codemirror_mode": {
    "name": "ipython",
    "version": 3
   },
   "file_extension": ".py",
   "mimetype": "text/x-python",
   "name": "python",
   "nbconvert_exporter": "python",
   "pygments_lexer": "ipython3",
   "version": "3.10.0"
  }
 },
 "nbformat": 4,
 "nbformat_minor": 5
}
