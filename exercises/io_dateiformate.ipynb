{
 "cells": [
  {
   "cell_type": "markdown",
   "metadata": {},
   "source": [
    "# Tiere\n",
    "\n",
    "Durchsuche die Python-Dokumentation oder andere Quellen nach Funktionen die du brauchst!"
   ]
  },
  {
   "cell_type": "markdown",
   "metadata": {},
   "source": [
    "## Aufgabe 1: Auslesen einer CSV Datei\n",
    "\n",
    "In der Datei `../data/animals.csv` befinden sich Informationen zu sechs Tieren. Zu jedem Tier wurde der `Name`, die `Art` und das `Alter` gespeichert. Lese die Datei aus und speichere die in Folgendem Format:\n",
    "```py\n",
    "animals == [\n",
    "  {\n",
    "    \"name\": \"Hugo\",\n",
    "    \"art\": \"Hamster\",\n",
    "    \"alter\": 2\n",
    "  },\n",
    "  ...\n",
    "]\n",
    "```\n",
    "\n",
    "> Beachte: Unter Umständen müssen Datentypen konvertiert werden!"
   ]
  },
  {
   "cell_type": "code",
   "execution_count": null,
   "metadata": {},
   "outputs": [],
   "source": [
    "# Dein Code"
   ]
  },
  {
   "cell_type": "markdown",
   "metadata": {},
   "source": [
    "## Aufgabe 2: Formatänderung\n",
    "\n",
    "Ändere die Struktur von `animals`, sodass es Dictionary aus Listen ist:\n",
    "\n",
    "```python\n",
    "animals_transformed == {\n",
    "  \"name\": [\"Hugo\", ...],\n",
    "  \"art\": [\"Hamster\", ...],\n",
    "  \"alter\": [2, ...]\n",
    "}\n",
    "```\n",
    "\n",
    "Speichere darauf `animals_transformed` in einer `JSON` Datei unter `../data/animals_transformed.json`."
   ]
  },
  {
   "cell_type": "code",
   "execution_count": null,
   "metadata": {},
   "outputs": [],
   "source": [
    "# Dein Code"
   ]
  },
  {
   "cell_type": "code",
   "execution_count": null,
   "metadata": {},
   "outputs": [],
   "source": [
    "# Dein Code"
   ]
  },
  {
   "cell_type": "markdown",
   "metadata": {},
   "source": [
    "## Aufgabe 3: Katzen\n",
    "\n",
    "Bestimme das kommulierte Alter aller Katzen im Datensatz möglichsts Speicheroptimiert.\n",
    "> Das kannst du erreichen, indem du mit dem CSV-Reader über die CSV Datei itertierst ohne alle Zeilen in einer Variablen zu speichern."
   ]
  },
  {
   "cell_type": "code",
   "execution_count": null,
   "metadata": {},
   "outputs": [],
   "source": [
    "# Dein Code"
   ]
  },
  {
   "cell_type": "markdown",
   "metadata": {},
   "source": [
    "## Aufgabe 4: Katzen II.\n",
    "\n",
    "Kann man das gleiche auf mit der selbst-abgespeicherten json machen?"
   ]
  },
  {
   "cell_type": "code",
   "execution_count": null,
   "metadata": {},
   "outputs": [],
   "source": [
    "# Dein Code"
   ]
  }
 ],
 "metadata": {
  "interpreter": {
   "hash": "0adf9ed22607672552b33170f8e4d2da88f2ab5bde97e5312e0c3e42a99abea3"
  },
  "kernelspec": {
   "display_name": "Python 3.9.7 ('base')",
   "language": "python",
   "name": "python3"
  },
  "language_info": {
   "codemirror_mode": {
    "name": "ipython",
    "version": 3
   },
   "file_extension": ".py",
   "mimetype": "text/x-python",
   "name": "python",
   "nbconvert_exporter": "python",
   "pygments_lexer": "ipython3",
   "version": "3.9.7"
  },
  "orig_nbformat": 4
 },
 "nbformat": 4,
 "nbformat_minor": 2
}
