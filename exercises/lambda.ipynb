{
 "cells": [
  {
   "cell_type": "markdown",
   "id": "88809f2b",
   "metadata": {},
   "source": [
    "# Lambda\n",
    "\n",
    "### Aufgabe 1) - Begrüßung\n",
    "\n",
    "Erstelle eine Lmabdafunktion die eine Begrüßung ausgibt.  \n",
    "Prüfe deine Funktion"
   ]
  },
  {
   "cell_type": "code",
   "execution_count": 6,
   "id": "41a9ba8a",
   "metadata": {},
   "outputs": [],
   "source": [
    "# yout code"
   ]
  },
  {
   "cell_type": "markdown",
   "id": "8bd9b1d7",
   "metadata": {},
   "source": [
    "---\n",
    "### Aufgabe 2) - Addition\n",
    "\n",
    "Erstelle eine Lambdafunktion die zwei Werte miteinander addiert.  \n",
    "Prüfe deine Funktion"
   ]
  },
  {
   "cell_type": "code",
   "execution_count": 5,
   "id": "916a1483",
   "metadata": {},
   "outputs": [],
   "source": [
    "# your code"
   ]
  }
 ],
 "metadata": {
  "kernelspec": {
   "display_name": "Python 3 (ipykernel)",
   "language": "python",
   "name": "python3"
  },
  "language_info": {
   "codemirror_mode": {
    "name": "ipython",
    "version": 3
   },
   "file_extension": ".py",
   "mimetype": "text/x-python",
   "name": "python",
   "nbconvert_exporter": "python",
   "pygments_lexer": "ipython3",
   "version": "3.10.0"
  }
 },
 "nbformat": 4,
 "nbformat_minor": 5
}
