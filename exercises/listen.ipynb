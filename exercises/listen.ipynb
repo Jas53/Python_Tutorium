{
 "cells": [
  {
   "cell_type": "markdown",
   "id": "b047c8be",
   "metadata": {},
   "source": [
    "# Listen"
   ]
  },
  {
   "cell_type": "code",
   "execution_count": 1,
   "id": "e02ba5d2",
   "metadata": {},
   "outputs": [],
   "source": [
    "fruits = [\"Apfel\", \"Birne\", \"Zitrone\", \"Gurke\", \"Pfirsich\", \"Erdbeere\"]"
   ]
  },
  {
   "cell_type": "markdown",
   "id": "66644250",
   "metadata": {},
   "source": [
    "---\n",
    "### Listen 1) - Element ändern\n",
    "\n",
    "Gebe das dritte Element aus"
   ]
  },
  {
   "cell_type": "code",
   "execution_count": 2,
   "id": "143b75b5",
   "metadata": {},
   "outputs": [],
   "source": [
    "# your code"
   ]
  },
  {
   "cell_type": "markdown",
   "id": "74497988",
   "metadata": {},
   "source": [
    "Ändere das vierte Element der Liste in eine Frucht"
   ]
  },
  {
   "cell_type": "code",
   "execution_count": 5,
   "id": "7ff63005",
   "metadata": {},
   "outputs": [],
   "source": [
    "# your code"
   ]
  },
  {
   "cell_type": "markdown",
   "id": "a10a48a7",
   "metadata": {},
   "source": [
    "---\n",
    "### Listen 2) - Liste erweitern"
   ]
  },
  {
   "cell_type": "markdown",
   "id": "87af63db",
   "metadata": {},
   "source": [
    "Füge ein Element am Ende der Liste hinzu"
   ]
  },
  {
   "cell_type": "code",
   "execution_count": 8,
   "id": "9a98c531",
   "metadata": {},
   "outputs": [],
   "source": [
    "# your code"
   ]
  },
  {
   "cell_type": "markdown",
   "id": "1b4740d8",
   "metadata": {},
   "source": [
    "Füge ein Element an der dritten Stelle der Liste hinzu"
   ]
  },
  {
   "cell_type": "code",
   "execution_count": 10,
   "id": "9b52b8c7",
   "metadata": {},
   "outputs": [],
   "source": [
    "# your code"
   ]
  },
  {
   "cell_type": "markdown",
   "id": "0710ff0a",
   "metadata": {},
   "source": [
    "Füge die Liste *more_fruits* als einzelne Elemente in die Liste *fruits* hinzu."
   ]
  },
  {
   "cell_type": "code",
   "execution_count": null,
   "id": "0eac2f1f",
   "metadata": {},
   "outputs": [],
   "source": [
    "more_fruits = [\"Banane\", \"Kirsche\", \"Blaubeere\"]"
   ]
  },
  {
   "cell_type": "code",
   "execution_count": 9,
   "id": "4665ebe2",
   "metadata": {},
   "outputs": [],
   "source": [
    "# your code"
   ]
  },
  {
   "cell_type": "markdown",
   "id": "1cd43cde",
   "metadata": {},
   "source": [
    "---\n",
    "### Listen 3) - Elemente löschen\n",
    "\n",
    "Enferne ein Element deiner Wahl aus der Liste"
   ]
  },
  {
   "cell_type": "code",
   "execution_count": 11,
   "id": "84050643",
   "metadata": {},
   "outputs": [],
   "source": [
    "# your code"
   ]
  },
  {
   "cell_type": "markdown",
   "id": "c518d593",
   "metadata": {},
   "source": [
    "Lösche die Liste *more_fruits*"
   ]
  },
  {
   "cell_type": "code",
   "execution_count": 12,
   "id": "7ac47de8",
   "metadata": {},
   "outputs": [],
   "source": [
    "# your code"
   ]
  },
  {
   "cell_type": "markdown",
   "id": "6a4b5baf",
   "metadata": {},
   "source": [
    "---\n",
    "### Listen 4) - Liste sortieren\n",
    "\n",
    "Sortiere die Liste alphabetisch"
   ]
  },
  {
   "cell_type": "code",
   "execution_count": 13,
   "id": "acf3b4f8",
   "metadata": {},
   "outputs": [],
   "source": [
    "# your code"
   ]
  },
  {
   "cell_type": "markdown",
   "id": "0cc3afea",
   "metadata": {},
   "source": [
    "---\n",
    "### Listen 5) - Slicing"
   ]
  },
  {
   "cell_type": "markdown",
   "id": "3d00dc4a",
   "metadata": {},
   "source": [
    "Lege mit der Hilfe von Slicing eine Kopie der Liste an "
   ]
  },
  {
   "cell_type": "code",
   "execution_count": 16,
   "id": "b733a856",
   "metadata": {},
   "outputs": [],
   "source": [
    "# your code"
   ]
  },
  {
   "cell_type": "markdown",
   "id": "17017645",
   "metadata": {},
   "source": [
    "Gebe die ersten drei Element der Liste aus"
   ]
  },
  {
   "cell_type": "code",
   "execution_count": 14,
   "id": "43d63f32",
   "metadata": {},
   "outputs": [],
   "source": [
    "# your code"
   ]
  },
  {
   "cell_type": "markdown",
   "id": "4e8879a8",
   "metadata": {},
   "source": [
    "Gebe die letzen vier Elemente der Liste aus"
   ]
  },
  {
   "cell_type": "code",
   "execution_count": null,
   "id": "8afab18c",
   "metadata": {},
   "outputs": [],
   "source": [
    "# your code"
   ]
  },
  {
   "cell_type": "markdown",
   "id": "0c14c22d",
   "metadata": {},
   "source": [
    "Gebe das zweite bis zum vorletzten Element (einschließlich) aus"
   ]
  },
  {
   "cell_type": "code",
   "execution_count": null,
   "id": "749bf3c1",
   "metadata": {},
   "outputs": [],
   "source": [
    "# your code"
   ]
  }
 ],
 "metadata": {
  "kernelspec": {
   "display_name": "Python 3 (ipykernel)",
   "language": "python",
   "name": "python3"
  },
  "language_info": {
   "codemirror_mode": {
    "name": "ipython",
    "version": 3
   },
   "file_extension": ".py",
   "mimetype": "text/x-python",
   "name": "python",
   "nbconvert_exporter": "python",
   "pygments_lexer": "ipython3",
   "version": "3.10.0"
  }
 },
 "nbformat": 4,
 "nbformat_minor": 5
}
