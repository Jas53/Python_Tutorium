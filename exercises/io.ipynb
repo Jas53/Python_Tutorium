{
 "cells": [
  {
   "cell_type": "markdown",
   "id": "1eeb68d4",
   "metadata": {},
   "source": [
    "# I/O\n",
    "\n",
    "### Aufgabe 1) - Input\n",
    "\n",
    "Gebe deinen Namen als Userinput ein und gebe ihn in einer Begrüßung wieder aus"
   ]
  },
  {
   "cell_type": "code",
   "execution_count": 3,
   "id": "23845c77",
   "metadata": {},
   "outputs": [],
   "source": [
    "# your code"
   ]
  },
  {
   "cell_type": "markdown",
   "id": "adb228b9",
   "metadata": {},
   "source": [
    "---\n",
    "### Aufgabe 2) - Kinotickets\n",
    "\n",
    "In einem Kino werden die Preise entsprechendes des Alters angepasst.  \n",
    "Wenn eine Person unter 3 Jahre alt ist ist das Kinoticket umsonst. Wenn eine Person zwischen 3 und 12 Jahre alt ist kostet das Ticket 10€. Wenn eine Person älter als 12 Jahre alt ist kostet das Ticket 15€.\n",
    "\n",
    "Schreibe eine Schleife bei der du das Alter einer Person über den Userinput eingibst und einen entsprechende Nachricht über die Kosten für das Kinoticket ausgibst.  \n",
    "Überlege dir ein sinnvolles Abbruchkriterium um die Schleife zu beenden.\n"
   ]
  },
  {
   "cell_type": "code",
   "execution_count": 4,
   "id": "ecf9e6d2",
   "metadata": {},
   "outputs": [],
   "source": [
    "# your code"
   ]
  },
  {
   "cell_type": "markdown",
   "id": "b23beeaf",
   "metadata": {},
   "source": [
    "---\n",
    "### Aufgabe 3) - Pizzabelag\n",
    "\n",
    "Schreibe eine Schleife in der du über einen Userinput Pizzabelage eingibst. Speichere diese Belage ab und gebe jedes Mal eine entsprechende Nachricht aus, was du hinzugefügt hast und mit was alles jetzt die Pizza belegt ist.  \n",
    "Die Schleife soll beendet werden, wenn als Userinput *quit* kommt."
   ]
  },
  {
   "cell_type": "code",
   "execution_count": 5,
   "id": "5df28665",
   "metadata": {},
   "outputs": [],
   "source": [
    "# your code"
   ]
  },
  {
   "cell_type": "markdown",
   "id": "76c26bb9",
   "metadata": {},
   "source": [
    "---\n",
    "### Aufgabe 4 ) - Überprüfe Zufallszahl\n",
    "\n",
    "Erstelle eine Zufallszahl zwischen 0 und 10 und versuche über einen Userinput von dir diese Zahl zu erraten. Nach jedem Versuch soll ausgegeben werden, ob die Zufallszahl größer oder kleienr ist als die eingegebene Zahl.  \n",
    "Um zu gewinnen musst du die Zahl innerhalb 3 Versuche erraten. Gebe je nach Sieg oder Verlust eine entsprechende Nachricht aus."
   ]
  },
  {
   "cell_type": "code",
   "execution_count": null,
   "id": "684ffd3a",
   "metadata": {},
   "outputs": [],
   "source": [
    "# your code"
   ]
  }
 ],
 "metadata": {
  "kernelspec": {
   "display_name": "Python 3 (ipykernel)",
   "language": "python",
   "name": "python3"
  },
  "language_info": {
   "codemirror_mode": {
    "name": "ipython",
    "version": 3
   },
   "file_extension": ".py",
   "mimetype": "text/x-python",
   "name": "python",
   "nbconvert_exporter": "python",
   "pygments_lexer": "ipython3",
   "version": "3.10.0"
  }
 },
 "nbformat": 4,
 "nbformat_minor": 5
}
