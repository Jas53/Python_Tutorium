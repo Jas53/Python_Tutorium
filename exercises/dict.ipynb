{
 "cells": [
  {
   "cell_type": "markdown",
   "id": "3f5f023b",
   "metadata": {},
   "source": [
    "# Dictionaries\n",
    "\n",
    "Überprüfe alle deine Ergebnisse"
   ]
  },
  {
   "cell_type": "code",
   "execution_count": 1,
   "id": "1e5d13ab",
   "metadata": {},
   "outputs": [],
   "source": [
    "pets = {\n",
    "    \"Monie\": \"Hund\",\n",
    "    \"Simba\": \"Katze\",\n",
    "    \"Holly\": \"Hund\",\n",
    "    \"Yeontan\": \"Hund\",\n",
    "    \"Loki\": \"Katze\",\n",
    "    \"Bam\": \"Hund\",\n",
    "    \"Klopfer\": \"Hase\"\n",
    "}"
   ]
  },
  {
   "cell_type": "markdown",
   "id": "626fa3e7",
   "metadata": {},
   "source": [
    "---"
   ]
  },
  {
   "cell_type": "markdown",
   "id": "aad80b80",
   "metadata": {},
   "source": [
    "### Dict 1) - Elemente ausgeben\n",
    "\n",
    "Gebe alle *keys* von pets aus"
   ]
  },
  {
   "cell_type": "code",
   "execution_count": 2,
   "id": "cf0e6faa",
   "metadata": {},
   "outputs": [],
   "source": [
    "# your code"
   ]
  },
  {
   "cell_type": "markdown",
   "id": "17214922",
   "metadata": {},
   "source": [
    "Gebe das dritte Element"
   ]
  },
  {
   "cell_type": "code",
   "execution_count": 3,
   "id": "8303eb1c",
   "metadata": {},
   "outputs": [],
   "source": [
    "# your code"
   ]
  },
  {
   "cell_type": "markdown",
   "id": "7c0bc403",
   "metadata": {},
   "source": [
    "Gebe alle *values* von pets aus"
   ]
  },
  {
   "cell_type": "code",
   "execution_count": 4,
   "id": "30698619",
   "metadata": {},
   "outputs": [],
   "source": [
    "# your code"
   ]
  },
  {
   "cell_type": "markdown",
   "id": "d0aa85b9",
   "metadata": {},
   "source": [
    "Gebe alle *key-value*-Paare aus"
   ]
  },
  {
   "cell_type": "code",
   "execution_count": 5,
   "id": "be06bf01",
   "metadata": {},
   "outputs": [],
   "source": [
    "# your code"
   ]
  },
  {
   "cell_type": "markdown",
   "id": "785609fd",
   "metadata": {},
   "source": [
    "---\n",
    "\n",
    "### Dict 2) - Elemente ändern\n",
    "\n",
    "Ändere das Tier zwei beliebiger Elemente.  \n",
    "Verwende zwei unterschiedliche Methoden dafür."
   ]
  },
  {
   "cell_type": "code",
   "execution_count": 6,
   "id": "935cbb83",
   "metadata": {},
   "outputs": [],
   "source": [
    "# your code"
   ]
  },
  {
   "cell_type": "markdown",
   "id": "2d1d38dc",
   "metadata": {},
   "source": [
    "--- \n",
    "\n",
    "### Dict 3) - Elemente hinzufügen\n",
    "\n",
    "Füge zwei weitere *key-value*-Paare zu pets hinzu.  \n",
    "Verwende zwei unterschiedliche Methoden dafür."
   ]
  },
  {
   "cell_type": "code",
   "execution_count": 7,
   "id": "72b34483",
   "metadata": {},
   "outputs": [],
   "source": [
    "# your code"
   ]
  },
  {
   "cell_type": "markdown",
   "id": "1d7ff527",
   "metadata": {},
   "source": [
    "---\n",
    "\n",
    "### Dict 4) - Elemente löschen\n",
    "\n",
    "Entferne das letzte Element aus dem Dictionary"
   ]
  },
  {
   "cell_type": "code",
   "execution_count": 8,
   "id": "617d8ddd",
   "metadata": {},
   "outputs": [],
   "source": [
    "# your code"
   ]
  },
  {
   "cell_type": "markdown",
   "id": "d438ff7a",
   "metadata": {},
   "source": [
    "Entferne ein beliebiges Element aus dem Dictionary"
   ]
  },
  {
   "cell_type": "code",
   "execution_count": 9,
   "id": "09240dff",
   "metadata": {},
   "outputs": [],
   "source": [
    "# your code"
   ]
  },
  {
   "cell_type": "markdown",
   "id": "1348ff62",
   "metadata": {},
   "source": [
    "Entferne alle Elemente aus dem Dictionary"
   ]
  },
  {
   "cell_type": "code",
   "execution_count": 10,
   "id": "ad18f138",
   "metadata": {},
   "outputs": [],
   "source": [
    "# your code"
   ]
  },
  {
   "cell_type": "markdown",
   "id": "21264d91",
   "metadata": {},
   "source": [
    "Zuletzt lösche das Dictionary"
   ]
  },
  {
   "cell_type": "code",
   "execution_count": 11,
   "id": "254d6f80",
   "metadata": {},
   "outputs": [],
   "source": [
    "# your code"
   ]
  }
 ],
 "metadata": {
  "kernelspec": {
   "display_name": "Python 3 (ipykernel)",
   "language": "python",
   "name": "python3"
  },
  "language_info": {
   "codemirror_mode": {
    "name": "ipython",
    "version": 3
   },
   "file_extension": ".py",
   "mimetype": "text/x-python",
   "name": "python",
   "nbconvert_exporter": "python",
   "pygments_lexer": "ipython3",
   "version": "3.10.0"
  }
 },
 "nbformat": 4,
 "nbformat_minor": 5
}
