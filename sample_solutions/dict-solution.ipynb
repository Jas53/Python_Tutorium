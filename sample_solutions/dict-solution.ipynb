{
 "cells": [
  {
   "cell_type": "markdown",
   "id": "3f5f023b",
   "metadata": {},
   "source": [
    "# Dictionaries"
   ]
  },
  {
   "cell_type": "code",
   "execution_count": 23,
   "id": "1e5d13ab",
   "metadata": {},
   "outputs": [],
   "source": [
    "pets = {\n",
    "    \"Monie\": \"Hund\",\n",
    "    \"Simba\": \"Katze\",\n",
    "    \"Holly\": \"Hund\",\n",
    "    \"Yeontan\": \"Hund\",\n",
    "    \"Loki\": \"Katze\",\n",
    "    \"Bam\": \"Hund\",\n",
    "    \"Klopfer\": \"Hase\"\n",
    "}"
   ]
  },
  {
   "cell_type": "markdown",
   "id": "626fa3e7",
   "metadata": {},
   "source": [
    "---"
   ]
  },
  {
   "cell_type": "markdown",
   "id": "aad80b80",
   "metadata": {},
   "source": [
    "### Dict 1) - Elemente ausgeben\n",
    "\n",
    "Gebe alle *keys* von pets aus"
   ]
  },
  {
   "cell_type": "code",
   "execution_count": 24,
   "id": "cf0e6faa",
   "metadata": {},
   "outputs": [
    {
     "name": "stdout",
     "output_type": "stream",
     "text": [
      "dict_keys(['Monie', 'Simba', 'Holly', 'Yeontan', 'Loki', 'Bam', 'Klopfer'])\n"
     ]
    }
   ],
   "source": [
    "print(pets.keys())"
   ]
  },
  {
   "cell_type": "markdown",
   "id": "17214922",
   "metadata": {},
   "source": [
    "Gebe das dritte Element"
   ]
  },
  {
   "cell_type": "code",
   "execution_count": 25,
   "id": "8303eb1c",
   "metadata": {},
   "outputs": [
    {
     "name": "stdout",
     "output_type": "stream",
     "text": [
      "Hund\n"
     ]
    }
   ],
   "source": [
    "print(pets.get(\"Holly\"))"
   ]
  },
  {
   "cell_type": "markdown",
   "id": "7c0bc403",
   "metadata": {},
   "source": [
    "Gebe alle *values* von pets aus"
   ]
  },
  {
   "cell_type": "code",
   "execution_count": 26,
   "id": "30698619",
   "metadata": {},
   "outputs": [
    {
     "name": "stdout",
     "output_type": "stream",
     "text": [
      "dict_values(['Hund', 'Katze', 'Hund', 'Hund', 'Katze', 'Hund', 'Hase'])\n"
     ]
    }
   ],
   "source": [
    "print(pets.values())"
   ]
  },
  {
   "cell_type": "markdown",
   "id": "d0aa85b9",
   "metadata": {},
   "source": [
    "Gebe alle *key-value*-Paare aus"
   ]
  },
  {
   "cell_type": "code",
   "execution_count": 27,
   "id": "be06bf01",
   "metadata": {},
   "outputs": [
    {
     "name": "stdout",
     "output_type": "stream",
     "text": [
      "dict_items([('Monie', 'Hund'), ('Simba', 'Katze'), ('Holly', 'Hund'), ('Yeontan', 'Hund'), ('Loki', 'Katze'), ('Bam', 'Hund'), ('Klopfer', 'Hase')])\n"
     ]
    }
   ],
   "source": [
    "print(pets.items())"
   ]
  },
  {
   "cell_type": "markdown",
   "id": "785609fd",
   "metadata": {},
   "source": [
    "---\n",
    "\n",
    "### Dict 2) - Elemente ändern\n",
    "\n",
    "Ändere das Tier zwei beliebiger Elemente.  \n",
    "Verwende zwei unterschiedliche Methoden dafür."
   ]
  },
  {
   "cell_type": "code",
   "execution_count": 28,
   "id": "935cbb83",
   "metadata": {},
   "outputs": [],
   "source": [
    "# Methode 1\n",
    "pets[\"Loki\"] = \"Eidechse\"\n",
    "\n",
    "# Methode 2\n",
    "pets.update({\"Holly\": \"Meerschweinchen\"})"
   ]
  },
  {
   "cell_type": "code",
   "execution_count": 29,
   "id": "c83cdc0b",
   "metadata": {},
   "outputs": [
    {
     "name": "stdout",
     "output_type": "stream",
     "text": [
      "{'Monie': 'Hund', 'Simba': 'Katze', 'Holly': 'Meerschweinchen', 'Yeontan': 'Hund', 'Loki': 'Eidechse', 'Bam': 'Hund', 'Klopfer': 'Hase'}\n"
     ]
    }
   ],
   "source": [
    "print(pets)"
   ]
  },
  {
   "cell_type": "markdown",
   "id": "2d1d38dc",
   "metadata": {},
   "source": [
    "--- \n",
    "\n",
    "### Dict 3) - Elemente hinzufügen\n",
    "\n",
    "Füge zwei weitere *key-value*-Paare zu pets hinzu.  \n",
    "Verwende zwei unterschiedliche Methoden dafür."
   ]
  },
  {
   "cell_type": "code",
   "execution_count": 30,
   "id": "72b34483",
   "metadata": {},
   "outputs": [],
   "source": [
    "# Methode 1\n",
    "pets[\"Ares\"] = \"Hund\"\n",
    "\n",
    "# Methode 2\n",
    "pets.update({\"Sami\": \"Katze\"})"
   ]
  },
  {
   "cell_type": "code",
   "execution_count": 31,
   "id": "3c1428eb",
   "metadata": {},
   "outputs": [
    {
     "name": "stdout",
     "output_type": "stream",
     "text": [
      "{'Monie': 'Hund', 'Simba': 'Katze', 'Holly': 'Meerschweinchen', 'Yeontan': 'Hund', 'Loki': 'Eidechse', 'Bam': 'Hund', 'Klopfer': 'Hase', 'Ares': 'Hund', 'Sami': 'Katze'}\n"
     ]
    }
   ],
   "source": [
    "print(pets)"
   ]
  },
  {
   "cell_type": "markdown",
   "id": "1d7ff527",
   "metadata": {},
   "source": [
    "---\n",
    "\n",
    "### Dict 4) - Elemente löschen\n",
    "\n",
    "Entferne das letzte Element aus dem Dictionary"
   ]
  },
  {
   "cell_type": "code",
   "execution_count": 32,
   "id": "617d8ddd",
   "metadata": {},
   "outputs": [
    {
     "data": {
      "text/plain": [
       "('Sami', 'Katze')"
      ]
     },
     "execution_count": 32,
     "metadata": {},
     "output_type": "execute_result"
    }
   ],
   "source": [
    "pets.popitem()"
   ]
  },
  {
   "cell_type": "code",
   "execution_count": 33,
   "id": "46717774",
   "metadata": {},
   "outputs": [
    {
     "name": "stdout",
     "output_type": "stream",
     "text": [
      "{'Monie': 'Hund', 'Simba': 'Katze', 'Holly': 'Meerschweinchen', 'Yeontan': 'Hund', 'Loki': 'Eidechse', 'Bam': 'Hund', 'Klopfer': 'Hase', 'Ares': 'Hund'}\n"
     ]
    }
   ],
   "source": [
    "print(pets)"
   ]
  },
  {
   "cell_type": "markdown",
   "id": "d438ff7a",
   "metadata": {},
   "source": [
    "Entferne ein beliebiges Element aus dem Dictionary"
   ]
  },
  {
   "cell_type": "code",
   "execution_count": 34,
   "id": "09240dff",
   "metadata": {},
   "outputs": [
    {
     "data": {
      "text/plain": [
       "'Meerschweinchen'"
      ]
     },
     "execution_count": 34,
     "metadata": {},
     "output_type": "execute_result"
    }
   ],
   "source": [
    "pets.pop(\"Holly\")"
   ]
  },
  {
   "cell_type": "code",
   "execution_count": 35,
   "id": "9d304107",
   "metadata": {},
   "outputs": [
    {
     "name": "stdout",
     "output_type": "stream",
     "text": [
      "{'Monie': 'Hund', 'Simba': 'Katze', 'Yeontan': 'Hund', 'Loki': 'Eidechse', 'Bam': 'Hund', 'Klopfer': 'Hase', 'Ares': 'Hund'}\n"
     ]
    }
   ],
   "source": [
    "print(pets)"
   ]
  },
  {
   "cell_type": "markdown",
   "id": "1348ff62",
   "metadata": {},
   "source": [
    "Entferne alle Elemente aus dem Dictionary"
   ]
  },
  {
   "cell_type": "code",
   "execution_count": 36,
   "id": "ad18f138",
   "metadata": {},
   "outputs": [],
   "source": [
    "pets.clear()"
   ]
  },
  {
   "cell_type": "code",
   "execution_count": 37,
   "id": "e6732257",
   "metadata": {},
   "outputs": [
    {
     "name": "stdout",
     "output_type": "stream",
     "text": [
      "{}\n"
     ]
    }
   ],
   "source": [
    "print(pets)"
   ]
  },
  {
   "cell_type": "markdown",
   "id": "21264d91",
   "metadata": {},
   "source": [
    "Zuletzt lösche das Dictionary"
   ]
  },
  {
   "cell_type": "code",
   "execution_count": 38,
   "id": "254d6f80",
   "metadata": {},
   "outputs": [],
   "source": [
    "del pets"
   ]
  },
  {
   "cell_type": "code",
   "execution_count": 39,
   "id": "fcf524ad",
   "metadata": {},
   "outputs": [
    {
     "ename": "NameError",
     "evalue": "name 'pets' is not defined",
     "output_type": "error",
     "traceback": [
      "\u001b[0;31m---------------------------------------------------------------------------\u001b[0m",
      "\u001b[0;31mNameError\u001b[0m                                 Traceback (most recent call last)",
      "\u001b[0;32m/var/folders/y1/43kr12l954978b44r9ncx1ww0000gn/T/ipykernel_27606/1401136507.py\u001b[0m in \u001b[0;36m<module>\u001b[0;34m\u001b[0m\n\u001b[0;32m----> 1\u001b[0;31m \u001b[0mprint\u001b[0m\u001b[0;34m(\u001b[0m\u001b[0mpets\u001b[0m\u001b[0;34m)\u001b[0m\u001b[0;34m\u001b[0m\u001b[0;34m\u001b[0m\u001b[0m\n\u001b[0m",
      "\u001b[0;31mNameError\u001b[0m: name 'pets' is not defined"
     ]
    }
   ],
   "source": [
    "print(pets)"
   ]
  },
  {
   "cell_type": "code",
   "execution_count": null,
   "id": "49f29700",
   "metadata": {},
   "outputs": [],
   "source": []
  }
 ],
 "metadata": {
  "kernelspec": {
   "display_name": "Python 3 (ipykernel)",
   "language": "python",
   "name": "python3"
  },
  "language_info": {
   "codemirror_mode": {
    "name": "ipython",
    "version": 3
   },
   "file_extension": ".py",
   "mimetype": "text/x-python",
   "name": "python",
   "nbconvert_exporter": "python",
   "pygments_lexer": "ipython3",
   "version": "3.10.0"
  }
 },
 "nbformat": 4,
 "nbformat_minor": 5
}
