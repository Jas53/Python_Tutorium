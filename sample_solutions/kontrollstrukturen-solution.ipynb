{
 "cells": [
  {
   "cell_type": "markdown",
   "id": "dceee3ee",
   "metadata": {},
   "source": [
    "# Kontrollstrukturen"
   ]
  },
  {
   "cell_type": "code",
   "execution_count": 1,
   "id": "3551b126",
   "metadata": {},
   "outputs": [],
   "source": [
    "animals = [\"Elefant\", \"Tiger\", \"Wal\", \"Elefant\", \"Löwe\", \"Löwe\", \"Gnu\", \"Tiger\", \"Elefant\", \"Seestern\"]"
   ]
  },
  {
   "cell_type": "code",
   "execution_count": 2,
   "id": "78fbd54a",
   "metadata": {},
   "outputs": [],
   "source": [
    "book = {\n",
    "    \"title\": \"Per Anhalter durch die Galaxis\",\n",
    "    \"autor\": \"Douglas Adams\",\n",
    "    \"seitenanzahl\": 240,\n",
    "    \"sprache\": \"deutsch\",\n",
    "    \"isbn-13\": \"978-3036959542\"\n",
    "}"
   ]
  },
  {
   "cell_type": "markdown",
   "id": "af7258eb",
   "metadata": {},
   "source": [
    "---"
   ]
  },
  {
   "cell_type": "markdown",
   "id": "f1d628c5",
   "metadata": {},
   "source": [
    "### Kontrollstrukturen 1) - Elemente ausgeben\n",
    "\n",
    "Gebe alle Zahlen von 1 bis einschließlich 10 aus"
   ]
  },
  {
   "cell_type": "code",
   "execution_count": 3,
   "id": "23084057",
   "metadata": {},
   "outputs": [
    {
     "name": "stdout",
     "output_type": "stream",
     "text": [
      "1\n",
      "2\n",
      "3\n",
      "4\n",
      "5\n",
      "6\n",
      "7\n",
      "8\n",
      "9\n",
      "10\n"
     ]
    }
   ],
   "source": [
    "for i in range(1, 11):\n",
    "    print(i)"
   ]
  },
  {
   "cell_type": "markdown",
   "id": "75731c9e",
   "metadata": {},
   "source": [
    "Gebe alle gerade Zahlen von 0 bis 20 aus  \n",
    "Verwende dafür kein if statement"
   ]
  },
  {
   "cell_type": "code",
   "execution_count": 4,
   "id": "a7d2263c",
   "metadata": {},
   "outputs": [
    {
     "name": "stdout",
     "output_type": "stream",
     "text": [
      "0\n",
      "2\n",
      "4\n",
      "6\n",
      "8\n",
      "10\n",
      "12\n",
      "14\n",
      "16\n",
      "18\n",
      "20\n"
     ]
    }
   ],
   "source": [
    "for i in range(0, 21, 2):\n",
    "    print(i)"
   ]
  },
  {
   "cell_type": "markdown",
   "id": "5ac87bed",
   "metadata": {},
   "source": [
    "Gebe alle Elemente der Liste *animals* nacheinander aus"
   ]
  },
  {
   "cell_type": "code",
   "execution_count": 5,
   "id": "b613933e",
   "metadata": {},
   "outputs": [
    {
     "name": "stdout",
     "output_type": "stream",
     "text": [
      "Elefant\n",
      "Tiger\n",
      "Wal\n",
      "Elefant\n",
      "Löwe\n",
      "Löwe\n",
      "Gnu\n",
      "Tiger\n",
      "Elefant\n",
      "Seestern\n"
     ]
    }
   ],
   "source": [
    "for animal in animals:\n",
    "    print(animal)"
   ]
  },
  {
   "cell_type": "markdown",
   "id": "f1decebd",
   "metadata": {},
   "source": [
    "Gebe alle Elemente in dem Dictionary *book* aus"
   ]
  },
  {
   "cell_type": "code",
   "execution_count": 6,
   "id": "9e9d4482",
   "metadata": {},
   "outputs": [
    {
     "name": "stdout",
     "output_type": "stream",
     "text": [
      "title: Per Anhalter durch die Galaxis\n",
      "autor: Douglas Adams\n",
      "seitenanzahl: 240\n",
      "sprache: deutsch\n",
      "isbn-13: 978-3036959542\n"
     ]
    }
   ],
   "source": [
    "# Methode 1\n",
    "for info in book:\n",
    "    print(\"%s: %s\" % (info, book[info]))"
   ]
  },
  {
   "cell_type": "code",
   "execution_count": 7,
   "id": "491f4538",
   "metadata": {},
   "outputs": [
    {
     "name": "stdout",
     "output_type": "stream",
     "text": [
      "title: Per Anhalter durch die Galaxis\n",
      "autor: Douglas Adams\n",
      "seitenanzahl: 240\n",
      "sprache: deutsch\n",
      "isbn-13: 978-3036959542\n"
     ]
    }
   ],
   "source": [
    "# Methode 2\n",
    "for key, value in book.items():\n",
    "    print(\"%s: %s\" % (key, value))"
   ]
  },
  {
   "cell_type": "markdown",
   "id": "45259ccd",
   "metadata": {},
   "source": [
    "---\n",
    "\n",
    "### Kontrollstrukturen 2) - Element zählen\n",
    "\n",
    "Zähle wie oft **\"Elefant\"** und **\"Löwe\"** in der Liste *animals* vorkommt"
   ]
  },
  {
   "cell_type": "code",
   "execution_count": 8,
   "id": "eb6c7010",
   "metadata": {},
   "outputs": [
    {
     "name": "stdout",
     "output_type": "stream",
     "text": [
      "Anzahl 'Elefant': 3\n",
      "Anzahl 'Löwe': 2\n"
     ]
    }
   ],
   "source": [
    "count_elephant = 0\n",
    "count_lion = 0\n",
    "\n",
    "for animal in animals:\n",
    "    if animal == \"Elefant\":\n",
    "        count_elephant += 1\n",
    "    elif animal == \"Löwe\":\n",
    "        count_lion += 1\n",
    "\n",
    "print(\"Anzahl 'Elefant': %s\\nAnzahl 'Löwe': %s\" % (count_elephant, count_lion))"
   ]
  },
  {
   "cell_type": "markdown",
   "id": "f825717a",
   "metadata": {},
   "source": [
    "---\n",
    "\n",
    "### Kontrollstrukturen 3) - Admin"
   ]
  },
  {
   "cell_type": "code",
   "execution_count": 9,
   "id": "39ea0eca",
   "metadata": {},
   "outputs": [],
   "source": [
    "usernames = [\"obi-wan32\", \"yoda_1\", \"_anakin_\", \"admin\", \"C3P0!Fan\"]"
   ]
  },
  {
   "cell_type": "markdown",
   "id": "a56832d3",
   "metadata": {},
   "source": [
    "Gehe die Liste mit Nutzernamen aus und begrüße jeden Nutzer.  \n",
    "Begrüße den Nutzer *admin* mit einem extra Begrüßung."
   ]
  },
  {
   "cell_type": "code",
   "execution_count": 10,
   "id": "736a379d",
   "metadata": {},
   "outputs": [
    {
     "name": "stdout",
     "output_type": "stream",
     "text": [
      "Hallo Nutzer obi-wan32\n",
      "Hallo Nutzer yoda_1\n",
      "Hallo Nutzer _anakin_\n",
      "\n",
      "Hallo admin.\n",
      "Was möchsten sie tun?\n",
      "\n",
      "Hallo Nutzer C3P0!Fan\n"
     ]
    }
   ],
   "source": [
    "for username in usernames:\n",
    "    if username != \"admin\":\n",
    "        print(\"Hallo Nutzer %s\" % username)\n",
    "    else:\n",
    "        print(\"\\nHallo %s.\\nWas möchsten sie tun?\\n\" % username)"
   ]
  },
  {
   "cell_type": "markdown",
   "id": "f2159f86",
   "metadata": {},
   "source": [
    "---\n",
    "### Kontrollstrukturen 4) - Zufallszahlen\n",
    "\n",
    "Gehe zufällig generierte Zahlen zwischen 0 und einschließlich 100 durch, bis zufällig eine von dir gewählte Zahl generiert wird. **Hier für kannst du die Funktion randrange() von random verwenden**    \n",
    "Gebe die Anzahl der Durchläufe aus die ebnötigt wurden bis diese Zahl generiert wurde."
   ]
  },
  {
   "cell_type": "code",
   "execution_count": 11,
   "id": "2a519cfe",
   "metadata": {},
   "outputs": [
    {
     "name": "stdout",
     "output_type": "stream",
     "text": [
      "Anzahl Durchläufe: 38\n"
     ]
    }
   ],
   "source": [
    "from random import randrange\n",
    "i = 0\n",
    "count = 0\n",
    "while i != 15:\n",
    "    count += 1\n",
    "    i = randrange(101)\n",
    "\n",
    "print(\"Anzahl Durchläufe: %s\" % count)"
   ]
  },
  {
   "cell_type": "markdown",
   "id": "77a07a37",
   "metadata": {},
   "source": [
    "---\n",
    "### Kontrollstrukturen 5) - Tiger\n",
    "\n",
    "Gehe die Liste *animals* durch und breche die Iteration ab, wenn das zweite Mal **\"Tiger\"** vorkommt.  \n",
    "Gebe dabei die einzelnen Elemente bis zum Abbruch der Iteration aus."
   ]
  },
  {
   "cell_type": "code",
   "execution_count": 12,
   "id": "e1fdbae6",
   "metadata": {},
   "outputs": [
    {
     "name": "stdout",
     "output_type": "stream",
     "text": [
      "Elefant\n",
      "Tiger\n",
      "Wal\n",
      "Elefant\n",
      "Löwe\n",
      "Löwe\n",
      "Gnu\n",
      "Tiger\n"
     ]
    }
   ],
   "source": [
    "count = 0\n",
    "for animal in animals:\n",
    "    print(animal)\n",
    "    if animal == \"Tiger\":\n",
    "        count += 1\n",
    "    if count == 2:\n",
    "        break"
   ]
  },
  {
   "cell_type": "code",
   "execution_count": null,
   "id": "3a0e2616",
   "metadata": {},
   "outputs": [],
   "source": []
  }
 ],
 "metadata": {
  "kernelspec": {
   "display_name": "Python 3 (ipykernel)",
   "language": "python",
   "name": "python3"
  },
  "language_info": {
   "codemirror_mode": {
    "name": "ipython",
    "version": 3
   },
   "file_extension": ".py",
   "mimetype": "text/x-python",
   "name": "python",
   "nbconvert_exporter": "python",
   "pygments_lexer": "ipython3",
   "version": "3.10.0"
  }
 },
 "nbformat": 4,
 "nbformat_minor": 5
}
