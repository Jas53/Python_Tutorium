{
 "cells": [
  {
   "cell_type": "markdown",
   "id": "c8da5149",
   "metadata": {},
   "source": [
    "# I/O\n",
    "\n",
    "### Aufgabe 1) - Input\n",
    "\n",
    "Gebe deinen Namen als Userinput ein und gebe ihn in einer Begrüßung wieder aus"
   ]
  },
  {
   "cell_type": "code",
   "execution_count": 2,
   "id": "ff4dd5b7",
   "metadata": {},
   "outputs": [
    {
     "name": "stdout",
     "output_type": "stream",
     "text": [
      "Dein Name: Jasmin\n",
      "Hallo Jasmin\n"
     ]
    }
   ],
   "source": [
    "name = input(\"Dein Name: \")\n",
    "\n",
    "print(\"Hallo %s\" % name)"
   ]
  },
  {
   "cell_type": "markdown",
   "id": "413d5a0a",
   "metadata": {},
   "source": [
    "---\n",
    "### Aufgabe 2) - Kinotickets\n",
    "\n",
    "In einem Kino werden die Preise entsprechendes des Alters angepasst.  \n",
    "Wenn eine Person unter 3 Jahre alt ist ist das Kinoticket umsonst. Wenn eine Person zwischen 3 und 12 Jahre alt ist kostet das Ticket 10€. Wenn eine Person älter als 12 Jahre alt ist kostet das Ticket 15€."
   ]
  },
  {
   "cell_type": "code",
   "execution_count": 54,
   "id": "8c59cc33",
   "metadata": {},
   "outputs": [
    {
     "name": "stdout",
     "output_type": "stream",
     "text": [
      "Alter? 4\n",
      "Das Ticket kostet 10€\n"
     ]
    }
   ],
   "source": [
    "age = int(input(\"Alter? \"))\n",
    "\n",
    "if age < 3:\n",
    "    print(\"Das Ticket ist kostenlos\")\n",
    "elif (age >= 3) and (age <= 12):\n",
    "    print(\"Das Ticket kostet 10€\")\n",
    "else:\n",
    "    print(\"Das Ticket kostet 15€\")"
   ]
  },
  {
   "cell_type": "markdown",
   "id": "b55e68a0",
   "metadata": {},
   "source": [
    "---\n",
    "### Aufgabe 3) - Pizzabelag\n",
    "\n",
    "Schreibe eine Schleife in der du über einen Userinput Pizzabelage eingibst. Speichere diese Belage ab und gebe jedes Mal eine entsprechende Nachricht aus, was du hinzugefügt hast und mit was alles jetzt die Pizza belegt ist.  \n",
    "Die Schleife soll beendet werden, wenn als Userinput *quit* kommt."
   ]
  },
  {
   "cell_type": "code",
   "execution_count": 34,
   "id": "55620ddc",
   "metadata": {},
   "outputs": [
    {
     "name": "stdout",
     "output_type": "stream",
     "text": [
      "Belag? Salami\n",
      "Hinzugefügt: Salami\n",
      "Alle Beilagen: ['Salami']\n",
      "Belag? quit\n"
     ]
    }
   ],
   "source": [
    "toppings = []\n",
    "topping = input(\"Belag? \")\n",
    "\n",
    "while topping != \"quit\":\n",
    "    # Belag zur Liste hinzufügen\n",
    "    toppings.append(topping)\n",
    "    print(\"Hinzugefügt: %s\\nAlle Beilagen: %s\" % (topping, toppings))\n",
    "    topping = input(\"Belag? \")"
   ]
  },
  {
   "cell_type": "markdown",
   "id": "e37c81a5",
   "metadata": {},
   "source": [
    "---\n",
    "### Aufgabe 4 ) - Überprüfe Zufallszahl\n",
    "\n",
    "Erstelle eine Zufallszahl zwischen 0 und 10 und versuche über einen Userinput von dir diese Zahl zu erraten. Nach jedem Versuch soll ausgegeben werden, ob die Zufallszahl größer oder kleiner ist als die eingegebene Zahl.  \n",
    "Um zu gewinnen musst du die Zahl innerhalb 3 Versuche erraten. Gebe je nach Sieg oder Verlust eine entsprechende Nachricht aus."
   ]
  },
  {
   "cell_type": "code",
   "execution_count": 1,
   "id": "413987ce",
   "metadata": {},
   "outputs": [
    {
     "name": "stdout",
     "output_type": "stream",
     "text": [
      "Your guess? 7\n",
      "Zufallszahl ist kleiner\n",
      "Your guess? 4\n",
      "Zufallszahl ist größer\n",
      "Your guess? 5\n",
      "Zufallszahl ist größer\n",
      "Zufallszahl nicht erraten\n",
      "Die Zufallszahl war: 6\n"
     ]
    }
   ],
   "source": [
    "from random import randint\n",
    "\n",
    "# variablen inizieren\n",
    "rand_nr = randint(0, 10)\n",
    "win = False\n",
    "count = 0\n",
    "\n",
    "# while loop solange durchgehen bis drei Versuche verbraucht sind oder die Zufallszahl erraten worden ist\n",
    "while (count < 3) and not win:\n",
    "    guess = int(input(\"Your guess? \"))\n",
    "    if guess > rand_nr:\n",
    "        print(\"Zufallszahl ist kleiner\")\n",
    "    elif guess < rand_nr:\n",
    "        print(\"Zufallszahl ist größer\")\n",
    "    elif guess == rand_nr:\n",
    "        print(\"Zufallszahl erraten!\")\n",
    "        win = True\n",
    "    count += 1\n",
    "# Dieser Codeblock wird ausgeführt, wenn die while loop beendet wird\n",
    "else:\n",
    "    if not win:\n",
    "        print(\"Zufallszahl nicht erraten\\nDie Zufallszahl war: %s\" % rand_nr)"
   ]
  },
  {
   "cell_type": "code",
   "execution_count": null,
   "id": "d3015773",
   "metadata": {},
   "outputs": [],
   "source": []
  }
 ],
 "metadata": {
  "kernelspec": {
   "display_name": "Python 3 (ipykernel)",
   "language": "python",
   "name": "python3"
  },
  "language_info": {
   "codemirror_mode": {
    "name": "ipython",
    "version": 3
   },
   "file_extension": ".py",
   "mimetype": "text/x-python",
   "name": "python",
   "nbconvert_exporter": "python",
   "pygments_lexer": "ipython3",
   "version": "3.10.0"
  }
 },
 "nbformat": 4,
 "nbformat_minor": 5
}
