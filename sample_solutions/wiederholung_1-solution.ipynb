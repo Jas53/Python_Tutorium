{
 "cells": [
  {
   "cell_type": "markdown",
   "id": "77c5f3c7",
   "metadata": {},
   "source": [
    "# Wiederholung - die Erste"
   ]
  },
  {
   "cell_type": "code",
   "execution_count": 28,
   "id": "1e1f3cdf",
   "metadata": {},
   "outputs": [],
   "source": [
    "books = {\n",
    "    \"978-3036959542\": {\n",
    "        \"title\": \"Per Anhalter durch die Galaxis\",\n",
    "        \"autor\": \"Douglas Adams\",\n",
    "        \"seitenanzahl\": 240,\n",
    "        \"sprache\": \"deutsch\",\n",
    "        \"isbn-13\": \"978-3036959542\"\n",
    "    },\n",
    "    \"978-3453318670\": {\n",
    "      \"title\": \"Die Foundation-Trilogie\",\n",
    "        \"autor\": \"Issac Asimov\",\n",
    "        \"seitenanzahl\": 880,\n",
    "        \"sprache\": \"deutsch\",\n",
    "        \"isbn-13\": \"978-3453318670\"\n",
    "    },\n",
    "    \"978-3036959566\": {\n",
    "        \"title\": \"Das Restaurant am Ende des Universums\",\n",
    "        \"autor\": \"Dougals Adams\",\n",
    "        \"seitenanzahl\": 272,\n",
    "        \"sprache\": \"deutsch\",\n",
    "        \"isbn-13\": \"978-3036959566\"\n",
    "    },\n",
    "    \"978-3036959559\": {\n",
    "        \"title\": \"Das Leben, das Universum und der ganze Rest\",\n",
    "        \"autor\": \"Douglas Adams\",\n",
    "        \"seitenanzahl\": 256,\n",
    "        \"sprache\": \"deutsch\",\n",
    "        \"isbn-13\": \"978-3036959559\"\n",
    "    },\n",
    "    \"978-3453528420\": {\n",
    "        \"title\": \"Ich, der Roboter\",\n",
    "        \"autor\": \"Issac Asimov\",\n",
    "        \"seitenanzahl\": 304,\n",
    "        \"sprache\": \"deutsch\",\n",
    "        \"isbn-13\": \"978-3453528420\"\n",
    "    }\n",
    "}"
   ]
  },
  {
   "cell_type": "markdown",
   "id": "a56beceb",
   "metadata": {},
   "source": [
    "---\n",
    "### Aufgabe 1)\n",
    "\n",
    "Gebe für die einzelenen Bücher in *books* jeweils Titel und Autor des Buchs aus.  \n",
    "Überlege dir hierfür eine entsprechende Formatierung."
   ]
  },
  {
   "cell_type": "code",
   "execution_count": 4,
   "id": "85297bed",
   "metadata": {},
   "outputs": [
    {
     "name": "stdout",
     "output_type": "stream",
     "text": [
      "Titel: Per Anhalter durch die Galaxis\n",
      "Autor: Douglas Adams\n",
      "\n",
      "Titel: Die Foundation-Trilogie\n",
      "Autor: Issac Asimov\n",
      "\n",
      "Titel: Das Restaurant am Ende des Universums\n",
      "Autor: Dougals Adams\n",
      "\n",
      "Titel: Das Leben, das Universum und der ganze Rest\n",
      "Autor: Douglas Adams\n",
      "\n",
      "Titel: Ich, der Roboter\n",
      "Autor: Issac Asimov\n",
      "\n"
     ]
    }
   ],
   "source": [
    "for book in books.values():\n",
    "    print(\"Titel: %s\\nAutor: %s\\n\" % (book.get(\"title\"), book.get(\"autor\")))"
   ]
  },
  {
   "cell_type": "markdown",
   "id": "acb0a2a4",
   "metadata": {},
   "source": [
    "---\n",
    "### Aufgabe 2)\n",
    "\n",
    "**a)** Gebe alle Titel aus, dessen Bücher von dem Autor *Issac Asimov* sind.  \n",
    "**b)** Gebe alle Titel aus, dessen Buchtitel ein *Komma* beinhalten.  \n",
    "**c)** Gebe alle Titel aus, dessen Bücher mehr als 270 Seiten haben."
   ]
  },
  {
   "cell_type": "code",
   "execution_count": 7,
   "id": "c0702f5d",
   "metadata": {},
   "outputs": [
    {
     "name": "stdout",
     "output_type": "stream",
     "text": [
      "Die Foundation-Trilogie\n",
      "Ich, der Roboter\n"
     ]
    }
   ],
   "source": [
    "# a)\n",
    "for book in books.values():\n",
    "    if book.get(\"autor\") == \"Issac Asimov\":\n",
    "        print(book.get(\"title\"))"
   ]
  },
  {
   "cell_type": "code",
   "execution_count": 16,
   "id": "2763695d",
   "metadata": {},
   "outputs": [
    {
     "name": "stdout",
     "output_type": "stream",
     "text": [
      "Das Leben, das Universum und der ganze Rest\n",
      "Ich, der Roboter\n"
     ]
    }
   ],
   "source": [
    "# b)\n",
    "for book in books.values():\n",
    "    # Auf -1 prüfen, weil die find()-Methode -1 wiedergibt, wenn der String das gesuchte nicht beinhaltet\n",
    "    if book.get(\"title\").find(\",\") != -1:\n",
    "        print(book.get(\"title\"))"
   ]
  },
  {
   "cell_type": "code",
   "execution_count": 29,
   "id": "d52aae88",
   "metadata": {},
   "outputs": [
    {
     "name": "stdout",
     "output_type": "stream",
     "text": [
      "Die Foundation-Trilogie\n",
      "Das Restaurant am Ende des Universums\n",
      "Ich, der Roboter\n"
     ]
    }
   ],
   "source": [
    "# c)\n",
    "for book in books.values():\n",
    "    if book.get(\"seitenanzahl\") > 270:\n",
    "        print(book.get(\"title\"))"
   ]
  },
  {
   "cell_type": "code",
   "execution_count": null,
   "id": "f0c8b631",
   "metadata": {},
   "outputs": [],
   "source": []
  }
 ],
 "metadata": {
  "kernelspec": {
   "display_name": "Python 3 (ipykernel)",
   "language": "python",
   "name": "python3"
  },
  "language_info": {
   "codemirror_mode": {
    "name": "ipython",
    "version": 3
   },
   "file_extension": ".py",
   "mimetype": "text/x-python",
   "name": "python",
   "nbconvert_exporter": "python",
   "pygments_lexer": "ipython3",
   "version": "3.10.0"
  }
 },
 "nbformat": 4,
 "nbformat_minor": 5
}
