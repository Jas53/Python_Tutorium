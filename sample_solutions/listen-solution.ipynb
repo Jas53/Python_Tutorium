{
 "cells": [
  {
   "cell_type": "markdown",
   "id": "b047c8be",
   "metadata": {},
   "source": [
    "# Listen"
   ]
  },
  {
   "cell_type": "code",
   "execution_count": 3,
   "id": "e02ba5d2",
   "metadata": {},
   "outputs": [],
   "source": [
    "fruits = [\"Apfel\", \"Birne\", \"Zitrone\", \"Gurke\", \"Pfirsich\", \"Erdbeere\"]"
   ]
  },
  {
   "cell_type": "markdown",
   "id": "66644250",
   "metadata": {},
   "source": [
    "---\n",
    "### Listen 1) - Element ändern\n",
    "\n",
    "Gebe das dritte Element der Liste aus"
   ]
  },
  {
   "cell_type": "code",
   "execution_count": 4,
   "id": "143b75b5",
   "metadata": {},
   "outputs": [
    {
     "data": {
      "text/plain": [
       "'Zitrone'"
      ]
     },
     "execution_count": 4,
     "metadata": {},
     "output_type": "execute_result"
    }
   ],
   "source": [
    "fruits[2]"
   ]
  },
  {
   "cell_type": "markdown",
   "id": "74497988",
   "metadata": {},
   "source": [
    "Ändere das vierte Element der Liste in eine Frucht"
   ]
  },
  {
   "cell_type": "code",
   "execution_count": 5,
   "id": "7ff63005",
   "metadata": {},
   "outputs": [
    {
     "name": "stdout",
     "output_type": "stream",
     "text": [
      "['Apfel', 'Birne', 'Zitrone', 'Trauben', 'Pfirsich', 'Erdbeere']\n"
     ]
    }
   ],
   "source": [
    "fruits[3] = \"Trauben\"\n",
    "print(fruits)"
   ]
  },
  {
   "cell_type": "markdown",
   "id": "a10a48a7",
   "metadata": {},
   "source": [
    "---\n",
    "### Listen 2) - Liste erweitern"
   ]
  },
  {
   "cell_type": "markdown",
   "id": "87af63db",
   "metadata": {},
   "source": [
    "Füge ein Element am Ende der Liste hinzu"
   ]
  },
  {
   "cell_type": "code",
   "execution_count": 6,
   "id": "9a98c531",
   "metadata": {},
   "outputs": [
    {
     "name": "stdout",
     "output_type": "stream",
     "text": [
      "['Apfel', 'Birne', 'Zitrone', 'Trauben', 'Pfirsich', 'Erdbeere', 'Mango']\n"
     ]
    }
   ],
   "source": [
    "fruits.append(\"Mango\")\n",
    "print(fruits)"
   ]
  },
  {
   "cell_type": "markdown",
   "id": "1b4740d8",
   "metadata": {},
   "source": [
    "Füge ein Element an der dritten Stelle der Liste hinzu"
   ]
  },
  {
   "cell_type": "code",
   "execution_count": 7,
   "id": "9b52b8c7",
   "metadata": {},
   "outputs": [
    {
     "name": "stdout",
     "output_type": "stream",
     "text": [
      "['Apfel', 'Birne', 'Orange', 'Zitrone', 'Trauben', 'Pfirsich', 'Erdbeere', 'Mango']\n"
     ]
    }
   ],
   "source": [
    "fruits.insert(2, \"Orange\")\n",
    "print(fruits)"
   ]
  },
  {
   "cell_type": "markdown",
   "id": "0710ff0a",
   "metadata": {},
   "source": [
    "Füge die Liste *more_fruits* als einzelne Elemente in die Liste *fruits* hinzu."
   ]
  },
  {
   "cell_type": "code",
   "execution_count": 8,
   "id": "0eac2f1f",
   "metadata": {},
   "outputs": [],
   "source": [
    "more_fruits = [\"Banane\", \"Kirsche\", \"Blaubeere\"]"
   ]
  },
  {
   "cell_type": "code",
   "execution_count": 9,
   "id": "4665ebe2",
   "metadata": {},
   "outputs": [
    {
     "name": "stdout",
     "output_type": "stream",
     "text": [
      "['Apfel', 'Birne', 'Orange', 'Zitrone', 'Trauben', 'Pfirsich', 'Erdbeere', 'Mango', 'Banane', 'Kirsche', 'Blaubeere']\n"
     ]
    }
   ],
   "source": [
    "fruits.extend(more_fruits)\n",
    "print(fruits)"
   ]
  },
  {
   "cell_type": "markdown",
   "id": "1cd43cde",
   "metadata": {},
   "source": [
    "---\n",
    "### Listen 3) - Elemente löschen\n",
    "\n",
    "Enferne ein Element deiner Wahl aus der Liste"
   ]
  },
  {
   "cell_type": "code",
   "execution_count": 10,
   "id": "84050643",
   "metadata": {},
   "outputs": [
    {
     "name": "stdout",
     "output_type": "stream",
     "text": [
      "['Apfel', 'Birne', 'Orange', 'Zitrone', 'Pfirsich', 'Erdbeere', 'Mango', 'Banane', 'Kirsche', 'Blaubeere']\n"
     ]
    }
   ],
   "source": [
    "# first method\n",
    "fruits.remove(\"Trauben\")\n",
    "print(fruits)"
   ]
  },
  {
   "cell_type": "code",
   "execution_count": 11,
   "id": "c63c7f1d",
   "metadata": {},
   "outputs": [
    {
     "name": "stdout",
     "output_type": "stream",
     "text": [
      "['Apfel', 'Birne', 'Orange', 'Zitrone', 'Pfirsich', 'Erdbeere', 'Mango', 'Banane', 'Kirsche']\n"
     ]
    }
   ],
   "source": [
    "# second method\n",
    "fruits.pop()\n",
    "print(fruits)"
   ]
  },
  {
   "cell_type": "markdown",
   "id": "c518d593",
   "metadata": {},
   "source": [
    "Lösche die Liste *more_fruits*"
   ]
  },
  {
   "cell_type": "code",
   "execution_count": 12,
   "id": "7ac47de8",
   "metadata": {},
   "outputs": [
    {
     "name": "stdout",
     "output_type": "stream",
     "text": [
      "['Banane', 'Kirsche', 'Blaubeere']\n"
     ]
    }
   ],
   "source": [
    "print(more_fruits)"
   ]
  },
  {
   "cell_type": "code",
   "execution_count": 13,
   "id": "e1c04c24",
   "metadata": {},
   "outputs": [],
   "source": [
    "del more_fruits"
   ]
  },
  {
   "cell_type": "code",
   "execution_count": 14,
   "id": "fa9e4b3e",
   "metadata": {},
   "outputs": [
    {
     "ename": "NameError",
     "evalue": "name 'more_fruits' is not defined",
     "output_type": "error",
     "traceback": [
      "\u001b[0;31m---------------------------------------------------------------------------\u001b[0m",
      "\u001b[0;31mNameError\u001b[0m                                 Traceback (most recent call last)",
      "\u001b[0;32m/var/folders/y1/43kr12l954978b44r9ncx1ww0000gn/T/ipykernel_21369/3628884207.py\u001b[0m in \u001b[0;36m<module>\u001b[0;34m\u001b[0m\n\u001b[1;32m      1\u001b[0m \u001b[0;31m# check if list still exsits\u001b[0m\u001b[0;34m\u001b[0m\u001b[0;34m\u001b[0m\u001b[0m\n\u001b[0;32m----> 2\u001b[0;31m \u001b[0mprint\u001b[0m\u001b[0;34m(\u001b[0m\u001b[0mmore_fruits\u001b[0m\u001b[0;34m)\u001b[0m\u001b[0;34m\u001b[0m\u001b[0;34m\u001b[0m\u001b[0m\n\u001b[0m",
      "\u001b[0;31mNameError\u001b[0m: name 'more_fruits' is not defined"
     ]
    }
   ],
   "source": [
    "# check if list still exsits\n",
    "print(more_fruits)"
   ]
  },
  {
   "cell_type": "markdown",
   "id": "6a4b5baf",
   "metadata": {},
   "source": [
    "---\n",
    "### Listen 4) - Liste sortieren\n",
    "\n",
    "Sortiere die Liste alphabetisch"
   ]
  },
  {
   "cell_type": "code",
   "execution_count": 15,
   "id": "acf3b4f8",
   "metadata": {},
   "outputs": [
    {
     "name": "stdout",
     "output_type": "stream",
     "text": [
      "['Apfel', 'Banane', 'Birne', 'Erdbeere', 'Kirsche', 'Mango', 'Orange', 'Pfirsich', 'Zitrone']\n"
     ]
    }
   ],
   "source": [
    "fruits.sort()\n",
    "print(fruits)"
   ]
  },
  {
   "cell_type": "markdown",
   "id": "0cc3afea",
   "metadata": {},
   "source": [
    "---\n",
    "### Listen 5) - Slicing"
   ]
  },
  {
   "cell_type": "markdown",
   "id": "3d00dc4a",
   "metadata": {},
   "source": [
    "Lege mit der Hilfe von Slicing eine Kopie der Liste an "
   ]
  },
  {
   "cell_type": "code",
   "execution_count": 16,
   "id": "b733a856",
   "metadata": {},
   "outputs": [
    {
     "name": "stdout",
     "output_type": "stream",
     "text": [
      "['Apfel', 'Banane', 'Birne', 'Erdbeere', 'Kirsche', 'Mango', 'Orange', 'Pfirsich', 'Zitrone']\n"
     ]
    }
   ],
   "source": [
    "fruits_copy = fruits[:]\n",
    "print(fruits_copy)"
   ]
  },
  {
   "cell_type": "markdown",
   "id": "17017645",
   "metadata": {},
   "source": [
    "Gebe die ersten drei Element der Liste aus"
   ]
  },
  {
   "cell_type": "code",
   "execution_count": 17,
   "id": "43d63f32",
   "metadata": {},
   "outputs": [
    {
     "data": {
      "text/plain": [
       "['Apfel', 'Banane', 'Birne']"
      ]
     },
     "execution_count": 17,
     "metadata": {},
     "output_type": "execute_result"
    }
   ],
   "source": [
    "print(fruits_copy[:3])"
   ]
  },
  {
   "cell_type": "markdown",
   "id": "4e8879a8",
   "metadata": {},
   "source": [
    "Gebe die letzen vier Elemente der Liste aus"
   ]
  },
  {
   "cell_type": "code",
   "execution_count": 18,
   "id": "bb902860",
   "metadata": {},
   "outputs": [
    {
     "data": {
      "text/plain": [
       "['Mango', 'Orange', 'Pfirsich', 'Zitrone']"
      ]
     },
     "execution_count": 18,
     "metadata": {},
     "output_type": "execute_result"
    }
   ],
   "source": [
    "print(fruits_copy[-4:])"
   ]
  },
  {
   "cell_type": "markdown",
   "id": "1846580f",
   "metadata": {},
   "source": [
    "Gebe das zweite bis zum vorletzten Element (einschließlich) aus"
   ]
  },
  {
   "cell_type": "code",
   "execution_count": 20,
   "id": "34e8fc08",
   "metadata": {},
   "outputs": [
    {
     "data": {
      "text/plain": [
       "['Birne', 'Erdbeere', 'Kirsche', 'Mango', 'Orange', 'Pfirsich']"
      ]
     },
     "execution_count": 20,
     "metadata": {},
     "output_type": "execute_result"
    }
   ],
   "source": [
    "print(fruits_copy[2:-1])"
   ]
  },
  {
   "cell_type": "code",
   "execution_count": null,
   "id": "ba7dc4a6",
   "metadata": {},
   "outputs": [],
   "source": []
  }
 ],
 "metadata": {
  "kernelspec": {
   "display_name": "Python 3 (ipykernel)",
   "language": "python",
   "name": "python3"
  },
  "language_info": {
   "codemirror_mode": {
    "name": "ipython",
    "version": 3
   },
   "file_extension": ".py",
   "mimetype": "text/x-python",
   "name": "python",
   "nbconvert_exporter": "python",
   "pygments_lexer": "ipython3",
   "version": "3.10.0"
  }
 },
 "nbformat": 4,
 "nbformat_minor": 5
}
