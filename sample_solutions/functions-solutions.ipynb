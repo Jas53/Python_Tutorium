{
 "cells": [
  {
   "cell_type": "markdown",
   "id": "4ef085d5",
   "metadata": {},
   "source": [
    "# Functions\n",
    "\n",
    "Denke bei all deinen Funktionen an die zuvor besprochenen Konventionen\n",
    "\n",
    "### Aufgabe 1) - Begrüßung\n",
    "\n",
    "Erstelle eine Funktion die einen Namen als Argument nimmt und eine Begrüßung ausgibt. \n",
    "Probiere deine Funktion aus"
   ]
  },
  {
   "cell_type": "code",
   "execution_count": 5,
   "id": "99774c3f",
   "metadata": {},
   "outputs": [],
   "source": [
    "def greetings(name:str):\n",
    "    \"\"\"Greet person\n",
    "    \n",
    "    Params:\n",
    "        name (string): Name\n",
    "    \"\"\"\n",
    "    print(\"Hello %s\" % name)"
   ]
  },
  {
   "cell_type": "code",
   "execution_count": 6,
   "id": "74888837",
   "metadata": {},
   "outputs": [
    {
     "name": "stdout",
     "output_type": "stream",
     "text": [
      "Hello Jasmin\n"
     ]
    }
   ],
   "source": [
    "greetings(\"Jasmin\")"
   ]
  },
  {
   "cell_type": "markdown",
   "id": "82988821",
   "metadata": {},
   "source": [
    "---\n",
    "### Aufgabe 2) - Rechner\n",
    "\n",
    "Erstelle eine Funktion die anhand deiner Eingabe zwei Nummern miteinander addiert, subtrahiert, multipliziert oder dividiert. Gebe auch Standartwerte an.  \n",
    "Probiere deine Funktion aus"
   ]
  },
  {
   "cell_type": "code",
   "execution_count": 28,
   "id": "7d5cbbef",
   "metadata": {},
   "outputs": [],
   "source": [
    "def calculate(nr_1:int = 1, nr_2:int = 1, operator:str = '+'):\n",
    "    \"\"\"add, sub, mulitply or divide two numbers\n",
    "    \n",
    "    Params:\n",
    "        nr_1 (int): first number\n",
    "        nr_2 (int): second number\n",
    "        operator (string): the operator (+, -, * or /)\n",
    "    \n",
    "    Return:\n",
    "        result or error\n",
    "    \"\"\"\n",
    "    if operator == '+':\n",
    "        return nr_1 + nr_2\n",
    "    elif operator == '-':\n",
    "        return nr_1 - nr_2\n",
    "    elif operator == '*':\n",
    "        return nr_1 * nr_2\n",
    "    elif operator == '/':\n",
    "        return nr_1 / nr_2\n",
    "    return \"Failed to identify the operator.\\nPlease enter '+', '-', '*' or '/' as operator\""
   ]
  },
  {
   "cell_type": "code",
   "execution_count": 29,
   "id": "847c13db",
   "metadata": {},
   "outputs": [
    {
     "name": "stdout",
     "output_type": "stream",
     "text": [
      "5\n"
     ]
    }
   ],
   "source": [
    "print(calculate(3, 2, '+'))"
   ]
  },
  {
   "cell_type": "code",
   "execution_count": 30,
   "id": "86774e3b",
   "metadata": {},
   "outputs": [
    {
     "name": "stdout",
     "output_type": "stream",
     "text": [
      "1\n"
     ]
    }
   ],
   "source": [
    "print(calculate(3, 2, '-'))"
   ]
  },
  {
   "cell_type": "code",
   "execution_count": 31,
   "id": "d20d7199",
   "metadata": {},
   "outputs": [
    {
     "name": "stdout",
     "output_type": "stream",
     "text": [
      "6\n"
     ]
    }
   ],
   "source": [
    "print(calculate(3, 2, '*'))"
   ]
  },
  {
   "cell_type": "code",
   "execution_count": 32,
   "id": "aed7ac94",
   "metadata": {},
   "outputs": [
    {
     "name": "stdout",
     "output_type": "stream",
     "text": [
      "1.5\n"
     ]
    }
   ],
   "source": [
    "print(calculate(3, 2, '/'))"
   ]
  },
  {
   "cell_type": "code",
   "execution_count": 33,
   "id": "11c1643a",
   "metadata": {},
   "outputs": [
    {
     "name": "stdout",
     "output_type": "stream",
     "text": [
      "Failed to identify the operator.\n",
      "Please enter '+', '-', '*' or '/' as operator\n"
     ]
    }
   ],
   "source": [
    "print(calculate(3, 2, 'e'))"
   ]
  },
  {
   "cell_type": "markdown",
   "id": "3ddb074d",
   "metadata": {},
   "source": [
    "---\n",
    "\n",
    "### Aufgaben 3) - Nummern\n",
    "\n",
    "Erstelle eine Funktion die eine nicht festgelegte Anzahl an Nummern summieren und das Ergebnis ausgibt.  \n",
    "Probiere deine Funktion aus"
   ]
  },
  {
   "cell_type": "code",
   "execution_count": 34,
   "id": "c6ef7279",
   "metadata": {},
   "outputs": [],
   "source": [
    "def sum_numbers(*numbers):\n",
    "    \"\"\"calculate the sum of all given numbers\n",
    "    \n",
    "    Params:\n",
    "        numbers(int): undefined amount of numbers\n",
    "    \n",
    "    Returns:\n",
    "        sum\n",
    "    \"\"\"\n",
    "    result = 0\n",
    "    for number in numbers:\n",
    "        result += number\n",
    "    return result"
   ]
  },
  {
   "cell_type": "code",
   "execution_count": 35,
   "id": "09a11401",
   "metadata": {},
   "outputs": [
    {
     "name": "stdout",
     "output_type": "stream",
     "text": [
      "68\n"
     ]
    }
   ],
   "source": [
    "print(sum_numbers(1, 2, 3, 4, 5, 6, 7, 8, 9, 2, 3, 5, 6 ,7))"
   ]
  },
  {
   "cell_type": "markdown",
   "id": "608d13ee",
   "metadata": {},
   "source": [
    "---\n",
    "### Aufgabe 4) - Autos\n",
    "\n",
    "Erstelle eine Funktion welcher eine beliebige Anzahl an Argumenten übergeben werden kann. Dabei sind folgende Argumente Pflicht:\n",
    "- manufacturer\n",
    "- model \n",
    "\n",
    "Andere *optionale* Argumente können z.B. sein:\n",
    "- color\n",
    "- amount_of_wheels\n",
    "- etc  \n",
    "\n",
    "Alle übergebene Daten sollen in einem separaten Dictionary gespeichert und am Ende der Funktion ausgegeben werden.  \n",
    "Probiere deine FUnktion aus"
   ]
  },
  {
   "cell_type": "code",
   "execution_count": 50,
   "id": "c45ae997",
   "metadata": {},
   "outputs": [],
   "source": [
    "def cars(manufacturer:str, model:str, **infos):\n",
    "    \"\"\"Create dictionary with all to-us-known infos for a car\n",
    "    \n",
    "    Params:\n",
    "        manufacturer (str): the value for manfacturer\n",
    "        model (str): the value for model\n",
    "        **infos (dict): undefined amount of other arguments\n",
    "    \n",
    "    Return:\n",
    "        dictionary with all the known infos\n",
    "    \"\"\"\n",
    "    infos[\"manufacturer\"] = manufacturer\n",
    "    infos[\"model\"] = model\n",
    "    return infos"
   ]
  },
  {
   "cell_type": "code",
   "execution_count": 51,
   "id": "51af7c36",
   "metadata": {},
   "outputs": [
    {
     "data": {
      "text/plain": [
       "{'amount_of_wheels': 4, 'manufacturer': 'opel', 'model': 'astra'}"
      ]
     },
     "execution_count": 51,
     "metadata": {},
     "output_type": "execute_result"
    }
   ],
   "source": [
    "cars(\"opel\", \"astra\", amount_of_wheels = 4)"
   ]
  },
  {
   "cell_type": "markdown",
   "id": "b1910d19",
   "metadata": {},
   "source": [
    "---\n",
    "### Aufgabe 5 - Import\n",
    "\n",
    "Erstelle eine .py-Datei und kopiere eine deiner hier zuvor erstellten Funktionen in die Datei.  \n",
    "Erstelle eine weitere .py-Datei in der du die entsprechende Funktion importierst und ausführst."
   ]
  },
  {
   "cell_type": "code",
   "execution_count": 52,
   "id": "ae08e83d",
   "metadata": {},
   "outputs": [],
   "source": [
    "# file with function: functions_5_function.py\n",
    "# file with called functions: functions_5-solutions.py"
   ]
  }
 ],
 "metadata": {
  "kernelspec": {
   "display_name": "Python 3 (ipykernel)",
   "language": "python",
   "name": "python3"
  },
  "language_info": {
   "codemirror_mode": {
    "name": "ipython",
    "version": 3
   },
   "file_extension": ".py",
   "mimetype": "text/x-python",
   "name": "python",
   "nbconvert_exporter": "python",
   "pygments_lexer": "ipython3",
   "version": "3.10.0"
  }
 },
 "nbformat": 4,
 "nbformat_minor": 5
}
