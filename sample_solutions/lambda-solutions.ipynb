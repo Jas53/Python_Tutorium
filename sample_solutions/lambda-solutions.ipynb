{
 "cells": [
  {
   "cell_type": "markdown",
   "id": "b84a4004",
   "metadata": {},
   "source": [
    "# Lambda\n",
    "\n",
    "### Aufgabe 1) - Begrüßung\n",
    "\n",
    "Erstelle eine Lmabdafunktion die eine Begrüßung ausgibt.  \n",
    "Prüfe deine Funktion"
   ]
  },
  {
   "cell_type": "code",
   "execution_count": 3,
   "id": "a4be47bb",
   "metadata": {},
   "outputs": [],
   "source": [
    "greeting = lambda name : \"Hello %s\" % name"
   ]
  },
  {
   "cell_type": "code",
   "execution_count": 4,
   "id": "59f5e515",
   "metadata": {},
   "outputs": [
    {
     "data": {
      "text/plain": [
       "'Hello Jasmin'"
      ]
     },
     "execution_count": 4,
     "metadata": {},
     "output_type": "execute_result"
    }
   ],
   "source": [
    "greeting(\"Jasmin\")"
   ]
  },
  {
   "cell_type": "markdown",
   "id": "36ee59ed",
   "metadata": {},
   "source": [
    "---\n",
    "### Aufgabe 2) - Addition\n",
    "\n",
    "Erstelle eine Lambdafunktion die zwei Werte miteinander addiert.  \n",
    "Prüfe deine Funktion"
   ]
  },
  {
   "cell_type": "code",
   "execution_count": 1,
   "id": "2c11fbc1",
   "metadata": {},
   "outputs": [],
   "source": [
    "addition = lambda nr_1, nr_2 : nr_1 + nr_2"
   ]
  },
  {
   "cell_type": "code",
   "execution_count": 2,
   "id": "d7bb5073",
   "metadata": {},
   "outputs": [
    {
     "data": {
      "text/plain": [
       "3"
      ]
     },
     "execution_count": 2,
     "metadata": {},
     "output_type": "execute_result"
    }
   ],
   "source": [
    "addition(1, 2)"
   ]
  }
 ],
 "metadata": {
  "kernelspec": {
   "display_name": "Python 3 (ipykernel)",
   "language": "python",
   "name": "python3"
  },
  "language_info": {
   "codemirror_mode": {
    "name": "ipython",
    "version": 3
   },
   "file_extension": ".py",
   "mimetype": "text/x-python",
   "name": "python",
   "nbconvert_exporter": "python",
   "pygments_lexer": "ipython3",
   "version": "3.10.0"
  }
 },
 "nbformat": 4,
 "nbformat_minor": 5
}
