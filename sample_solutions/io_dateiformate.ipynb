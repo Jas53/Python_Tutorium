{
 "cells": [
  {
   "cell_type": "markdown",
   "metadata": {},
   "source": [
    "# Tiere\n",
    "\n",
    "Durchsuche die Python-Dokumentation oder andere Quellen nach Funktionen die du brauchst!"
   ]
  },
  {
   "cell_type": "markdown",
   "metadata": {},
   "source": [
    "## Aufgabe 1: Auslesen einer CSV Datei\n",
    "\n",
    "In der Datei `../data/animals.csv` befinden sich Informationen zu sechs Tieren. Zu jedem Tier wurde der `Name`, die `Art` und das `Alter` gespeichert. Lese die Datei aus und speichere die in Folgendem Format:\n",
    "```py\n",
    "animals == [\n",
    "  {\n",
    "    \"name\": \"Hugo\",\n",
    "    \"art\": \"Hamster\",\n",
    "    \"alter\": 2\n",
    "  },\n",
    "  ...\n",
    "]\n",
    "```\n",
    "\n",
    "> Beachte: Unter Umständen müssen Datentypen konvertiert werden!"
   ]
  },
  {
   "cell_type": "code",
   "execution_count": 2,
   "metadata": {},
   "outputs": [
    {
     "data": {
      "text/plain": [
       "[{'name': 'Hugo', 'art': 'Hamster', 'alter': 2},\n",
       " {'name': 'Peter', 'art': 'Pferd', 'alter': 6},\n",
       " {'name': 'Max', 'art': 'Hund', 'alter': 20},\n",
       " {'name': 'Moritz', 'art': 'Hund', 'alter': 20},\n",
       " {'name': 'Pille', 'art': 'Katze', 'alter': 2},\n",
       " {'name': 'Spock', 'art': 'Katze', 'alter': 5}]"
      ]
     },
     "execution_count": 2,
     "metadata": {},
     "output_type": "execute_result"
    }
   ],
   "source": [
    "import csv\n",
    "\n",
    "file = open('../data/animals.csv', newline='')\n",
    "csv_reader = csv.reader(file)\n",
    "\n",
    "animals = []\n",
    "for i, line in enumerate(csv_reader):\n",
    "    # Skip Header\n",
    "    if i == 0:\n",
    "        continue\n",
    "    animal = {\n",
    "        \"name\": line[0],\n",
    "        \"art\": line[1],\n",
    "        \"alter\": int(line[2])\n",
    "    }\n",
    "    animals.append(animal)\n",
    "animals\n"
   ]
  },
  {
   "cell_type": "markdown",
   "metadata": {},
   "source": [
    "Take-away: Mit der `open` Funktion kann auf Dateien zugegriffen werden."
   ]
  },
  {
   "cell_type": "markdown",
   "metadata": {},
   "source": [
    "## Aufgabe 2: Formatänderung\n",
    "\n",
    "Ändere die Struktur von `animals`, sodass es Dictionary aus Listen ist:\n",
    "\n",
    "```python\n",
    "animals_transformed == {\n",
    "  \"name\": [\"Hugo\", ...],\n",
    "  \"art\": [\"Hamster\", ...],\n",
    "  \"alter\": [2, ...]\n",
    "}\n",
    "```\n",
    "\n",
    "Speichere darauf `animals_transformed` in einer `JSON` Datei unter `../data/animals_transformed.json`."
   ]
  },
  {
   "cell_type": "code",
   "execution_count": 4,
   "metadata": {},
   "outputs": [
    {
     "data": {
      "text/plain": [
       "{'name': ['Hugo', 'Peter', 'Max', 'Moritz', 'Pille', 'Spock'],\n",
       " 'art': ['Hamster', 'Pferd', 'Hund', 'Hund', 'Katze', 'Katze'],\n",
       " 'alter': [2, 6, 20, 20, 2, 5]}"
      ]
     },
     "execution_count": 4,
     "metadata": {},
     "output_type": "execute_result"
    }
   ],
   "source": [
    "animals_transformed = {\n",
    "    \"name\": [],\n",
    "    \"art\": [],\n",
    "    \"alter\": []\n",
    "}\n",
    "for animal in animals:\n",
    "    animals_transformed[\"name\"].append(animal[\"name\"])\n",
    "    animals_transformed[\"art\"].append(animal[\"art\"])\n",
    "    animals_transformed[\"alter\"].append(animal[\"alter\"])\n",
    "animals_transformed"
   ]
  },
  {
   "cell_type": "markdown",
   "metadata": {},
   "source": [
    "Take-away: Es gibt mehrere Möglichkeiten die selben Informationen in komplexen Strukturen zu speichern. Es ist wichtig einen intuitiven Umgang mit ihnen zu entwickeln."
   ]
  },
  {
   "cell_type": "code",
   "execution_count": 8,
   "metadata": {},
   "outputs": [],
   "source": [
    "import json\n",
    "\n",
    "with open(\"../data/animals_transformed.json\", mode=\"w\") as f:\n",
    "    json.dump(animals_transformed, f)"
   ]
  },
  {
   "cell_type": "markdown",
   "metadata": {},
   "source": [
    "Take-away: Um eine Datei zu schreiben muss der `open` Funktion der Parameter `mode=\"w\"` gesetzt werden."
   ]
  },
  {
   "cell_type": "markdown",
   "metadata": {},
   "source": [
    "## Aufgabe 3: Katzen\n",
    "\n",
    "Bestimme das kommulierte Alter aller Katzen im Datensatz möglichsts Speicheroptimiert.\n",
    "> Das kannst du erreichen, indem du mit dem CSV-Reader über die CSV Datei itertierst ohne alle Zeilen in einer Variablen zu speichern."
   ]
  },
  {
   "cell_type": "code",
   "execution_count": 9,
   "metadata": {},
   "outputs": [
    {
     "data": {
      "text/plain": [
       "7"
      ]
     },
     "execution_count": 9,
     "metadata": {},
     "output_type": "execute_result"
    }
   ],
   "source": [
    "import csv\n",
    "\n",
    "file = open('../data/animals.csv', newline='')\n",
    "csv_reader = csv.reader(file)\n",
    "\n",
    "kommulierte_alter = 0\n",
    "for i, line in enumerate(csv_reader):\n",
    "    # Skip Header\n",
    "    if i == 0:\n",
    "        continue\n",
    "    art = line[1]\n",
    "    alter = int(line[2])\n",
    "    if art == \"Katze\":\n",
    "        kommulierte_alter += alter\n",
    "kommulierte_alter\n"
   ]
  },
  {
   "cell_type": "markdown",
   "metadata": {},
   "source": [
    "Take-away: Aufgrund der sequentiellen Lesbarkeit von Dateien ist es möglich, Informationen nacheinander zu verarbeiten und so den Arbeitsspeicher nicht zu überladen."
   ]
  },
  {
   "cell_type": "markdown",
   "metadata": {},
   "source": [
    "## Aufgabe 4: Katzen II.\n",
    "\n",
    "Kann man das gleiche auf mit der selbst-abgespeicherten json machen?"
   ]
  },
  {
   "cell_type": "code",
   "execution_count": null,
   "metadata": {},
   "outputs": [],
   "source": [
    "print(\"Nope. Diese json wird im ganzen eingeladen und kann somit nicht speicher-optimiert verarbeitet werden.\")"
   ]
  },
  {
   "cell_type": "markdown",
   "metadata": {},
   "source": [
    "Take-away: Die Art der Speicherung von Informationen ist wichtig, um Dinge wie zum Beispiel speicher-optimierte IO-Algorithmen zu schreiben."
   ]
  }
 ],
 "metadata": {
  "interpreter": {
   "hash": "0adf9ed22607672552b33170f8e4d2da88f2ab5bde97e5312e0c3e42a99abea3"
  },
  "kernelspec": {
   "display_name": "Python 3.9.7 ('base')",
   "language": "python",
   "name": "python3"
  },
  "language_info": {
   "codemirror_mode": {
    "name": "ipython",
    "version": 3
   },
   "file_extension": ".py",
   "mimetype": "text/x-python",
   "name": "python",
   "nbconvert_exporter": "python",
   "pygments_lexer": "ipython3",
   "version": "3.9.7"
  },
  "orig_nbformat": 4
 },
 "nbformat": 4,
 "nbformat_minor": 2
}
